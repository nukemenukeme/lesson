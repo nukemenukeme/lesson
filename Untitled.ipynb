{
 "cells": [
  {
   "cell_type": "code",
   "execution_count": 114,
   "metadata": {
    "collapsed": false
   },
   "outputs": [
    {
     "data": {
      "image/png": "[encoded data removed]",
      "text/plain": [
       "<IPython.core.display.Image object>"
      ]
     },
     "execution_count": 114,
     "metadata": {},
     "output_type": "execute_result"
    }
   ],
   "source": [
    "from vapory import *\n",
    "\n",
    "\n",
    "camera = Camera( 'ultra_wide_angle', 'angle', 10, \n",
    "                 'location', [15 , 35 , 45],\n",
    "                 'look_at',  [0.0 , 0.0 , 0.0])\n",
    "\n",
    "\n",
    "sun = LightSource([1500,2500,2500], 'color',1)\n",
    "\n",
    "sky = Sphere(  [0,0,0],1, 'hollow',\n",
    "              Texture(  Pigment(  'gradient', [0,1,0],\n",
    "                                  ColorMap([0, 'color', 'White'],\n",
    "                                           [1, 'color', 'Blue' ]),\n",
    "                                  'quick_color', 'White'),\n",
    "                        Finish( 'ambient', 1, 'diffuse', 0)),\n",
    "              'scale', 10000)\n",
    "\n",
    "ground =    Plane(  [0,0,1], 0 ,\n",
    "            Texture( Pigment( 'color', [1.1*e for e in [0.40,0.45,0.85]])),\n",
    "            Finish(  'phong', 0.1 ))\n",
    "\n",
    "p1 = Polygon (4,[-1, -1],[-1, 1],[1, 1],[1, -1],'translate',[0,0,-1],Texture( Pigment( 'color', [1.1*e for e in [0.40,0.45,0.85]])))\n",
    "p2 = Polygon (4,[-1, -1],[-1, 1],[1, 1],[1, -1],'translate',[0,0,1],Texture( Pigment( 'color', [1.1*e for e in [1.40,0.45,0.85]])))\n",
    "p3 = Polygon (4,[-1, -1],[-1, 1],[1, 1],[1, -1],'rotate', [0,90,0], 'translate',[1,0,0],Texture( Pigment( 'color', [1.1*e for e in [0.40,1.45,0.85]])))\n",
    "p4 = Polygon (4,[-1, -1],[-1, 1],[1, 1],[1, -1],'rotate', [0,90,0], 'translate',[-1,0,0],Texture( Pigment( 'color', [1.1*e for e in [0.40,0.45,1.85]])))\n",
    "p5 = Polygon (4,[-1, -1],[-1, 1],[1, 1],[1, -1],'rotate', [90,0,0], 'translate',[0,1,0],Texture( Pigment( 'color', [1.1*e for e in [0.40,0.45,0.85]])))\n",
    "p6 = Polygon (4,[-1, -1],[-1, 1],[1, 1],[1, -1],'rotate', [90,0,0], 'translate',[0,-1,0],Texture( Pigment( 'color', [1.1*e for e in [1.40,0.45,0.85]])))\n",
    "\n",
    "scene = Scene( camera, [sun, sky,p1,p2,p3,p4,p5,p6],\n",
    "               included=['colors.inc', 'textures.inc'])\n",
    "\n",
    "scene.render('ipython', width=500, height=500, antialiasing=0.001)"
   ]
  },
  {
   "cell_type": "code",
   "execution_count": 54,
   "metadata": {
    "collapsed": false
   },
   "outputs": [
    {
     "ename": "NameError",
     "evalue": "global name 'self' is not defined",
     "output_type": "error",
     "traceback": [
      "\u001b[0;31m---------------------------------------------------------------------------\u001b[0m",
      "\u001b[0;31mNameError\u001b[0m                                 Traceback (most recent call last)",
      "\u001b[0;32m/Library/Python/2.7/site-packages/vapory/__init__.pyc\u001b[0m in \u001b[0;36m<module>\u001b[0;34m()\u001b[0m\n\u001b[1;32m      1\u001b[0m \u001b[0;32mfrom\u001b[0m \u001b[0mvapory\u001b[0m \u001b[0;32mimport\u001b[0m \u001b[0;34m*\u001b[0m\u001b[0;34m\u001b[0m\u001b[0m\n\u001b[0;32m----> 2\u001b[0;31m \u001b[0mPolygon\u001b[0m\u001b[0;34m.\u001b[0m\u001b[0mhelp\u001b[0m\u001b[0;34m(\u001b[0m\u001b[0;34m)\u001b[0m\u001b[0;34m\u001b[0m\u001b[0m\n\u001b[0m",
      "\u001b[0;32m/Library/Python/2.7/site-packages/vapory/vapory.pyc\u001b[0m in \u001b[0;36mhelp\u001b[0;34m(cls)\u001b[0m\n\u001b[1;32m    113\u001b[0m     \u001b[0;32mdef\u001b[0m \u001b[0mhelp\u001b[0m\u001b[0;34m(\u001b[0m\u001b[0mcls\u001b[0m\u001b[0;34m)\u001b[0m\u001b[0;34m:\u001b[0m\u001b[0;34m\u001b[0m\u001b[0m\n\u001b[1;32m    114\u001b[0m         \u001b[0;31m# Transform LightSource=> Light_Source\u001b[0m\u001b[0;34m\u001b[0m\u001b[0;34m\u001b[0m\u001b[0m\n\u001b[0;32m--> 115\u001b[0;31m         \u001b[0mname\u001b[0m \u001b[0;34m=\u001b[0m \u001b[0mre\u001b[0m\u001b[0;34m.\u001b[0m\u001b[0msub\u001b[0m\u001b[0;34m(\u001b[0m\u001b[0;34mr'(?!^)([A-Z])'\u001b[0m\u001b[0;34m,\u001b[0m \u001b[0;34mr'_\\1'\u001b[0m\u001b[0;34m,\u001b[0m \u001b[0mself\u001b[0m\u001b[0;34m.\u001b[0m\u001b[0m__class__\u001b[0m\u001b[0;34m.\u001b[0m\u001b[0m__name__\u001b[0m\u001b[0;34m)\u001b[0m\u001b[0;34m\u001b[0m\u001b[0m\n\u001b[0m\u001b[1;32m    116\u001b[0m         \u001b[0murl\u001b[0m \u001b[0;34m=\u001b[0m \u001b[0mwikiref\u001b[0m \u001b[0;34m+\u001b[0m \u001b[0mname\u001b[0m\u001b[0;34m\u001b[0m\u001b[0m\n\u001b[1;32m    117\u001b[0m         \u001b[0mwebbrowser\u001b[0m\u001b[0;34m.\u001b[0m\u001b[0mopen\u001b[0m\u001b[0;34m(\u001b[0m\u001b[0murl\u001b[0m\u001b[0;34m)\u001b[0m\u001b[0;34m\u001b[0m\u001b[0m\n",
      "\u001b[0;31mNameError\u001b[0m: global name 'self' is not defined"
     ]
    }
   ],
   "source": [
    "from vapory import *\n",
    "Polygon.help()"
   ]
  }
 ],
 "metadata": {
  "kernelspec": {
   "display_name": "Python 2",
   "language": "python",
   "name": "python2"
  },
  "language_info": {
   "codemirror_mode": {
    "name": "ipython",
    "version": 2
   },
   "file_extension": ".py",
   "mimetype": "text/x-python",
   "name": "python",
   "nbconvert_exporter": "python",
   "pygments_lexer": "ipython2",
   "version": "2.7.10"
  }
 },
 "nbformat": 4,
 "nbformat_minor": 0
}
