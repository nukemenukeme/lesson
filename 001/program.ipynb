{
 "cells": [
  {
   "cell_type": "markdown",
   "metadata": {},
   "source": [
    "# 12面体"
   ]
  },
  {
   "cell_type": "code",
   "execution_count": 63,
   "metadata": {
    "collapsed": false,
    "scrolled": true
   },
   "outputs": [
    {
     "data": {
      "image/png": "[encoded data removed]",
      "text/plain": [
       "<IPython.core.display.Image object>"
      ]
     },
     "execution_count": 63,
     "metadata": {},
     "output_type": "execute_result"
    }
   ],
   "source": [
    "from vapory import *\n",
    "from math import cos,sin,pi\n",
    "# Mathからコサイン、サイン、円周率を呼び出す\n",
    "\n",
    "camera = Camera( 'ultra_wide_angle', 'angle', 10, #カメラの位置、アングルの設定\n",
    "                 'location', [25 , 25 , 15],\n",
    "                 'look_at',  [0.0 , 0.0 , 0.0])\n",
    "\n",
    "sun = LightSource([1500,2500,2500], 'color',1) #光源の設定\n",
    "\n",
    "sky = Sphere([0,0,0], #空の設定\n",
    "             1,\n",
    "             'hollow',\n",
    "             Texture(Pigment('gradient',\n",
    "                             [0,1,0],\n",
    "                             ColorMap([0,'color','White'],[1, 'color', 'Blue' ]),\n",
    "                             'quick_color',\n",
    "                             'White'\n",
    "                            ),\n",
    "                     Finish('ambient',\n",
    "                            1,\n",
    "                            'diffuse', \n",
    "                            0\n",
    "                           )\n",
    "                    ),\n",
    "              'scale',\n",
    "              10000\n",
    "             )\n",
    "\n",
    "ground =    Plane(  [0,0,-20], 20 , #地面の設定\n",
    "            Texture( Pigment( 'color', [1.1*e for e in [1.80,1.35,1.55]])),\n",
    "            Finish(  'phong', 0.1 )) #Phongシェーディング\n",
    "\n",
    "x = (pow(5,1.0/2.0)+1)/2 #ルート5\n",
    "\n",
    "mesh = Mesh2(\n",
    "    VertexVectors( #正12面体の20の頂点座標 #xyzの座標指定\n",
    "        20, \n",
    "        [1,0,0],                                                 #a=0\n",
    "        [cos(72*((2*pi)/360)),sin(72*((2*pi)/360)),0],           #b=1\n",
    "        [-cos(36*((2*pi)/360)),sin(36*((2*pi)/360)),0],          #c=2\n",
    "        [-cos(36*((2*pi)/360)),-sin(36*((2*pi)/360)),0],         #d=3\n",
    "        [cos(72*((2*pi)/360)),-sin(72*((2*pi)/360)),0],          #e=4\n",
    "        [x,0,1],                                                 #f=5\n",
    "        [x*(cos(72*((2*pi)/360))),x*(sin(72*((2*pi)/360))),1],   #h=6\n",
    "        [-x*(cos(36*((2*pi)/360))),x*(sin(36*((2*pi)/360))),1],  #j=7\n",
    "        [x*(-cos(36*((2*pi)/360))),x*(-sin(36*((2*pi)/360))),1], #l=8\n",
    "        [x*(cos(72*((2*pi)/360))),-x*(sin(72*((2*pi)/360))),1],  #n=9\n",
    "        [x*(cos(36*((2*pi)/360))),x*(sin(36*((2*pi)/360))),x],   #g=10\n",
    "        [-x*(cos(72*((2*pi)/360))),x*(sin(72*((2*pi)/360))),x],  #i=11\n",
    "        [-x,0,x],                                                #k=12\n",
    "        [-x*(cos(72*((2*pi)/360))),-x*(sin(72*((2*pi)/360))),x], #m=13\n",
    "        [x*(cos(36*((2*pi)/360))),-x*(sin(36*((2*pi)/360))),x],  #o=14\n",
    "        [-1,0,x+1],                                              #p=15\n",
    "        [-cos(72*((2*pi)/360)),-sin(72*((2*pi)/360)),x+1],       #q=16\n",
    "        [cos(36*((2*pi)/360)),-sin(36*((2*pi)/360)),x+1],        #r=17\n",
    "        [cos(36*((2*pi)/360)),sin(36*((2*pi)/360)),x+1],         #s=18\n",
    "        [-cos(72*((2*pi)/360)),sin(72*((2*pi)/360)),x+1]         #t=19\n",
    "    ),\n",
    "    FaceIndices( #VertexVectorsの配列から数字(順番)を指定して呼び出す\n",
    "        36,\n",
    "        [19,18,17],\n",
    "        [17,16,15],\n",
    "        [15,19,17],\n",
    "        [16,17,14],\n",
    "        [14,9,13],\n",
    "        [13,16,14],\n",
    "        [16,13,8],\n",
    "        [8,12,15],\n",
    "        [15,16,8],\n",
    "        [15,12,7],\n",
    "        [7,11,19],\n",
    "        [19,15,7],\n",
    "        [19,11,6],\n",
    "        [6,10,18],\n",
    "        [18,19,6],\n",
    "        [18,10,5],\n",
    "        [5,14,17],\n",
    "        [17,18,5],\n",
    "        [2,1,0],\n",
    "        [0,4,3],\n",
    "        [3,2,0],\n",
    "        [1,6,10],\n",
    "        [10,5,0],\n",
    "        [0,1,10],\n",
    "        [0,5,14],\n",
    "        [14,9,4],\n",
    "        [4,0,14],\n",
    "        [4,9,13],\n",
    "        [13,8,3],\n",
    "        [3,4,13],\n",
    "        [3,8,12],\n",
    "        [12,7,2],\n",
    "        [2,3,12],   \n",
    "        [2,7,11],\n",
    "        [11,6,1],\n",
    "        [1,2,11]\n",
    "    ),\n",
    "    Pigment('color', [1.1*e for e in [1.80,1.85,1.55]])\n",
    ")\n",
    "\n",
    "scene = Scene(camera, [sun,sky,ground,mesh],\n",
    "               included=['colors.inc', 'textures.inc'])\n",
    "\n",
    "scene.render('ipython', width=600, height=600, antialiasing=0.001)"
   ]
  },
  {
   "cell_type": "code",
   "execution_count": null,
   "metadata": {
    "collapsed": true
   },
   "outputs": [],
   "source": []
  }
 ],
 "metadata": {
  "kernelspec": {
   "display_name": "Python 2",
   "language": "python",
   "name": "python2"
  },
  "language_info": {
   "codemirror_mode": {
    "name": "ipython",
    "version": 2
   },
   "file_extension": ".py",
   "mimetype": "text/x-python",
   "name": "python",
   "nbconvert_exporter": "python",
   "pygments_lexer": "ipython2",
   "version": "2.7.10"
  }
 },
 "nbformat": 4,
 "nbformat_minor": 0
}
