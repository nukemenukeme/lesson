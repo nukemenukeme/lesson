{
 "cells": [
  {
   "cell_type": "markdown",
   "metadata": {},
   "source": [
    "# setup"
   ]
  },
  {
   "cell_type": "code",
   "execution_count": 43,
   "metadata": {
    "collapsed": false
   },
   "outputs": [
    {
     "name": "stdout",
     "output_type": "stream",
     "text": [
      "['banana', 'apple', 'cheese']\n",
      "['banana', 'apple', 'cheese', 'chocolate']\n",
      "['banana', 'apple', 'cheese', 'chocolate', 'ice cream']\n",
      "['apple', 'banana', 'cheese', 'chocolate', 'ice cream']\n",
      "apple\n",
      "banana\n",
      "cheese\n",
      "chocolate\n",
      "ice cream\n"
     ]
    }
   ],
   "source": []
  },
  {
   "cell_type": "code",
   "execution_count": 33,
   "metadata": {
    "collapsed": true
   },
   "outputs": [],
   "source": [
    "from vapory import *\n",
    "\n",
    "camera = Camera( 'ultra_wide_angle', 'angle', 10, \n",
    "                 'location', [25 , 25 , 35],\n",
    "                 'look_at',  [0.0 , 0.0 , 0.0])\n",
    "\n",
    "sun = LightSource([1500,2500,2500], 'color',1)\n",
    "\n",
    "sky = Sphere(  [0,0,0],1, 'hollow',\n",
    "              Texture(  Pigment(  'gradient', [0,1,0],\n",
    "                                  ColorMap([0, 'color', 'White'],\n",
    "                                           [1, 'color', 'Blue' ]),\n",
    "                                  'quick_color', 'White'),\n",
    "                        Finish( 'ambient', 1, 'diffuse', 0)),\n",
    "              'scale', 10000)\n",
    "\n",
    "ground =    Plane(  [0,0,-20], 20 ,\n",
    "            Texture( Pigment( 'color', [1.1*e for e in [1.80,1.35,1.55]])),\n",
    "            Finish(  'phong', 0.1 ))"
   ]
  },
  {
   "cell_type": "markdown",
   "metadata": {},
   "source": [
    "# testing 5 faces\n",
    "\n",
    "* tried sosogsgsoms"
   ]
  },
  {
   "cell_type": "code",
   "execution_count": 26,
   "metadata": {
    "collapsed": false,
    "scrolled": true
   },
   "outputs": [
    {
     "data": {
      "image/png": "[encoded data removed]",
      "text/plain": [
       "<IPython.core.display.Image object>"
      ]
     },
     "execution_count": 26,
     "metadata": {},
     "output_type": "execute_result"
    }
   ],
   "source": [
    "from vapory import *\n",
    "from math import cos,sin,pi\n",
    "\n",
    "camera = Camera( 'ultra_wide_angle', 'angle', 10, \n",
    "                 'location', [25 , 25 , 35],\n",
    "                 'look_at',  [0.0 , 0.0 , 0.0])\n",
    "\n",
    "sun = LightSource([1500,2500,2500], 'color',1)\n",
    "\n",
    "sky = Sphere(  [0,0,0],1, 'hollow',\n",
    "              Texture(  Pigment(  'gradient', [0,1,0],\n",
    "                                  ColorMap([0, 'color', 'White'],\n",
    "                                           [1, 'color', 'Blue' ]),\n",
    "                                  'quick_color', 'White'),\n",
    "                        Finish( 'ambient', 1, 'diffuse', 0)),\n",
    "              'scale', 10000)\n",
    "\n",
    "ground =    Plane(  [0,0,-20], 20 ,\n",
    "            Texture( Pigment( 'color', [1.1*e for e in [1.80,1.35,1.55]])),\n",
    "            Finish(  'phong', 0.1 ))\n",
    "\n",
    "r = 20\n",
    "p1  = Polygon (5,\n",
    "               [r*cos(5/2*pi),r*sin(5/2*pi)],\n",
    "               [r*cos(5/4*pi),r*sin(5/4*pi)],\n",
    "               [r*cos(5/6*pi),r*sin(5/6*pi)],\n",
    "               [r*cos(5/8*pi),r*sin(5/8*pi)],\n",
    "               [r*cos(5/10*pi),r*sin(5/10*pi)],\n",
    "               Texture( Pigment( 'color', [1.1*e for e in [1.40,0.45,0.85]])))\n",
    "\n",
    "scene = Scene( camera, [sun, sky ,ground\n",
    "                        ,p1],\n",
    "               included=['colors.inc', 'textures.inc'])\n",
    "\n",
    "scene.render('ipython', width=500, height=500, antialiasing=0.001)"
   ]
  },
  {
   "cell_type": "code",
   "execution_count": 111,
   "metadata": {
    "collapsed": false
   },
   "outputs": [
    {
     "data": {
      "image/png": "[encoded data removed]",
      "text/plain": [
       "<IPython.core.display.Image object>"
      ]
     },
     "execution_count": 111,
     "metadata": {},
     "output_type": "execute_result"
    }
   ],
   "source": [
    "p1  = Polygon (3,[-1, 0],[1, 0],[0, 2*pow(3,1/2)],'rotate', [ 90,       0,   0],'translate',[ 0,0, 0],Texture( Pigment( 'color', [1.1*e for e in [1.40,0.45,0.85]])))\n",
    "p2  = Polygon (3,[-1, 0],[1, 0],[0, 2*pow(3,1/2)],'rotate', [ 90,     108,   0],'translate',[ 0,0, 0],Texture( Pigment( 'color', [1.1*e for e in [0.40,1.45,0.85]])))\n",
    "p3  = Polygon (3,[-1, 0],[1, 0],[0, 2*pow(3,1/2)],'rotate', [ 90,   2*108,   0],'translate',[ 0,0, 0],Texture( Pigment( 'color', [1.1*e for e in [0.40,0.45,1.85]])))\n",
    "p4  = Polygon (3,[-1, 0],[1, 0],[0, 2*pow(3,1/2)],'rotate', [ 90,   3*108,   0],'translate',[ 0,0, 0],Texture( Pigment( 'color', [1.1*e for e in [1.40,1.45,0.85]])))\n",
    "p5  = Polygon (3,[-1, 0],[1, 0],[0, 2*pow(3,1/2)],'rotate', [ 90,   4*108,   0],'translate',[ 0,0, 0],Texture( Pigment( 'color', [1.1*e for e in [0.40,1.45,1.85]])))\n",
    "\n",
    "p6  = Polygon (3,[-1, 0],[1, 0],[0, 2*pow(3,1/2)],'rotate', [ 30+180, 90,   0],'translate',[ 1,0, 0],Texture( Pigment( 'color', [1.1*e for e in [1.40,0.45,0.85]])))\n",
    "p7  = Polygon (3,[-1, 0],[1, 0],[0, 2*pow(3,1/2)],'rotate', [ 30+180,180,   0],'translate',[ 0,0,-1],Texture( Pigment( 'color', [1.1*e for e in [0.40,1.45,0.85]])))\n",
    "p8  = Polygon (3,[-1, 0],[1, 0],[0, 2*pow(3,1/2)],'rotate', [ 30+180,270,   0],'translate',[-1,0, 0],Texture( Pigment( 'color', [1.1*e for e in [0.40,0.45,1.85]])))\n",
    "p9  = Polygon (3,[-1, 0],[1, 0],[0, 2*pow(3,1/2)],'rotate', [-30,      0,   0],'translate',[ 0,0, 1],Texture( Pigment( 'color', [1.1*e for e in [0.40,0.45,0.85]])))\n",
    "p10 = Polygon (3,[-1, 0],[1, 0],[0, 2*pow(3,1/2)],'rotate', [-30,     90,   0],'translate',[ 1,0, 0],Texture( Pigment( 'color', [1.1*e for e in [1.40,0.45,0.85]])))\n",
    "\n",
    "p11 = Polygon (3,[-1, 0],[1, 0],[0, 2*pow(3,1/2)],'rotate', [-30,    180,   0],'translate',[ 0,0,-1],Texture( Pigment( 'color', [1.1*e for e in [0.40,1.45,0.85]])))\n",
    "p12 = Polygon (3,[-1, 0],[1, 0],[0, 2*pow(3,1/2)],'rotate', [-30,    270,   0],'translate',[-1,0, 0],Texture( Pigment( 'color', [1.1*e for e in [0.40,0.45,1.85]])))\n",
    "p13 = Polygon (3,[-1, 0],[1, 0],[0, 2*pow(3,1/2)],'rotate', [ 30+180,  0,   0],'translate',[ 0,0, 1],Texture( Pigment( 'color', [1.1*e for e in [0.40,0.45,0.85]])))\n",
    "p14 = Polygon (3,[-1, 0],[1, 0],[0, 2*pow(3,1/2)],'rotate', [ 30+180, 90,   0],'translate',[ 1,0, 0],Texture( Pigment( 'color', [1.1*e for e in [1.40,0.45,0.85]])))\n",
    "p15 = Polygon (3,[-1, 0],[1, 0],[0, 2*pow(3,1/2)],'rotate', [ 30+180,180,   0],'translate',[ 0,0,-1],Texture( Pigment( 'color', [1.1*e for e in [0.40,1.45,0.85]])))\n",
    "p16 = Polygon (3,[-1, 0],[1, 0],[0, 2*pow(3,1/2)],'rotate', [ 30+180,270,   0],'translate',[-1,0, 0],Texture( Pigment( 'color', [1.1*e for e in [0.40,0.45,1.85]])))\n",
    "p17 = Polygon (3,[-1, 0],[1, 0],[0, 2*pow(3,1/2)],'rotate', [-30,      0,   0],'translate',[ 0,0, 1],Texture( Pigment( 'color', [1.1*e for e in [0.40,0.45,0.85]])))\n",
    "p18 = Polygon (3,[-1, 0],[1, 0],[0, 2*pow(3,1/2)],'rotate', [-30,     90,   0],'translate',[ 1,0, 0],Texture( Pigment( 'color', [1.1*e for e in [1.40,0.45,0.85]])))\n",
    "p19 = Polygon (3,[-1, 0],[1, 0],[0, 2*pow(3,1/2)],'rotate', [-30,    180,   0],'translate',[ 0,0,-1],Texture( Pigment( 'color', [1.1*e for e in [0.40,1.45,0.85]])))\n",
    "p20 = Polygon (3,[-1, 0],[1, 0],[0, 2*pow(3,1/2)],'rotate', [-30,    270,   0],'translate',[-1,0, 0],Texture( Pigment( 'color', [1.1*e for e in [0.40,0.45,1.85]])))\n",
    "\n",
    "scene = Scene( camera, [sun, sky ,ground\n",
    "                        ,p1,p2,p3,p4,p5\n",
    "                        \n",
    "                       ],\n",
    "               included=['colors.inc', 'textures.inc'])\n",
    "\n",
    "scene.render('ipython', width=500, height=500, antialiasing=0.001)"
   ]
  }
 ],
 "metadata": {
  "kernelspec": {
   "display_name": "Python 2",
   "language": "python",
   "name": "python2"
  },
  "language_info": {
   "codemirror_mode": {
    "name": "ipython",
    "version": 2
   },
   "file_extension": ".py",
   "mimetype": "text/x-python",
   "name": "python",
   "nbconvert_exporter": "python",
   "pygments_lexer": "ipython2",
   "version": "2.7.11"
  }
 },
 "nbformat": 4,
 "nbformat_minor": 0
}
