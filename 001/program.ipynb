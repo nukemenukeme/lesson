{
 "cells": [
  {
   "cell_type": "markdown",
   "metadata": {},
   "source": [
    "# setup"
   ]
  },
  {
   "cell_type": "code",
   "execution_count": null,
   "metadata": {
    "collapsed": false
   },
   "outputs": [],
   "source": []
  },
  {
   "cell_type": "code",
   "execution_count": 2,
   "metadata": {
    "collapsed": false
   },
   "outputs": [
    {
     "ename": "IOError",
     "evalue": "POVRay rendering failed with the following error: povray: cannot open the user configuration file /Users/nukeme/.povray/3.7/povray.conf: No such file or directory\nPersistence of Vision(tm) Ray Tracer Version 3.7.0.unofficial (clang++ 4.2.1 @\n i386-apple-darwin14.5.0)\nThis is an unofficial version compiled by:\n homebrew\n The POV-Ray Team is not responsible for supporting this version.\n\nPOV-Ray is based on DKBTrace 2.12 by David K. Buck & Aaron A. Collins\nCopyright 1991-2013 Persistence of Vision Raytracer Pty. Ltd.\n\nPrimary POV-Ray 3.7 Architects/Developers: (Alphabetically)\n  Chris Cason         Thorsten Froehlich  Christoph Lipka   \n\nWith Assistance From: (Alphabetically)\n  Nicolas Calimet     Jerome Grimbert     James Holsenback    Christoph Hormann \n  Nathan Kopp         Juha Nieminen     \n\nPast Contributors: (Alphabetically)\n  Steve Anger         Eric Barish         Dieter Bayer        David K. Buck     \n  Nicolas Calimet     Chris Cason         Aaron A. Collins    Chris Dailey      \n  Steve Demlow        Andreas Dilger      Alexander Enzmann   Dan Farmer        \n  Thorsten Froehlich  Mark Gordon         James Holsenback    Christoph Hormann \n  Mike Hough          Chris Huff          Kari Kivisalo       Nathan Kopp       \n  Lutz Kretzschmar    Christoph Lipka     Jochen Lippert      Pascal Massimino  \n  Jim McElhiney       Douglas Muir        Juha Nieminen       Ron Parker        \n  Bill Pulver         Eduard Schwan       Wlodzimierz Skiba   Robert Skinner    \n  Yvo Smellenbergh    Zsolt Szalavari     Scott Taylor        Massimo Valentini \n  Timothy Wegner      Drew Wells          Chris Young       \n\nOther contributors are listed in the documentation.\n\nSupport libraries used by POV-Ray:\n  ZLib 1.2.5, Copyright 1995-2012 Jean-loup Gailly and Mark Adler\n  LibPNG 1.6.21, Copyright 1998-2012 Glenn Randers-Pehrson\n  LibJPEG 80, Copyright 1991-2013 Thomas G. Lane, Guido Vollbeding\n  LibTIFF 4.0.6, Copyright 1988-1997 Sam Leffler, 1991-1997 SGI\n  Boost 1.60, http://www.boost.org/\n\nParser Options\n  Input file: __temp__.pov\n  Remove bounds........On \n  Split unions.........Off\n  Library paths:\n    /usr/local/Cellar/povray/3.7.0.0_1/share/povray-3.7\n    /usr/local/Cellar/povray/3.7.0.0_1/share/povray-3.7/ini\n    /usr/local/Cellar/povray/3.7.0.0_1/share/povray-3.7/include\n  Clock value:    0.000  (Animation off)\nImage Output Options\n  Image resolution.....500 by 500 (rows 1 to 500, columns 1 to 500).\n  Output file..........__temp_ipython__.png, 24 bpp PNG\n  Dithering............Off\n  Graphic display......On  (gamma: sRGB)\n  Mosaic preview.......Off\n  Continued trace......Off\nInformation Output Options\n  All Streams to console..........On \n  Debug Stream to console.........On \n  Fatal Stream to console.........On \n  Render Stream to console........On \n  Statistics Stream to console....On \n  Warning Stream to console.......On \n==== [Parsing...] ==========================================================\nFile '__temp__.pov' line 45: Parse Error: Expected 'object or directive',\n undeclared identifier 'vapory' found instead\nFatal error in parser: Cannot parse input.\nRender failed\n\n",
     "output_type": "error",
     "traceback": [
      "\u001b[0;31m---------------------------------------------------------------------------\u001b[0m",
      "\u001b[0;31mIOError\u001b[0m                                   Traceback (most recent call last)",
      "\u001b[0;32m/Library/Python/2.7/site-packages/vapory/__init__.pyc\u001b[0m in \u001b[0;36m<module>\u001b[0;34m()\u001b[0m\n\u001b[1;32m     37\u001b[0m                included=['colors.inc', 'textures.inc'])\n\u001b[1;32m     38\u001b[0m \u001b[0;34m\u001b[0m\u001b[0m\n\u001b[0;32m---> 39\u001b[0;31m \u001b[0mscene\u001b[0m\u001b[0;34m.\u001b[0m\u001b[0mrender\u001b[0m\u001b[0;34m(\u001b[0m\u001b[0;34m'ipython'\u001b[0m\u001b[0;34m,\u001b[0m \u001b[0mwidth\u001b[0m\u001b[0;34m=\u001b[0m\u001b[0;36m500\u001b[0m\u001b[0;34m,\u001b[0m \u001b[0mheight\u001b[0m\u001b[0;34m=\u001b[0m\u001b[0;36m500\u001b[0m\u001b[0;34m,\u001b[0m \u001b[0mantialiasing\u001b[0m\u001b[0;34m=\u001b[0m\u001b[0;36m0.001\u001b[0m\u001b[0;34m)\u001b[0m\u001b[0;34m\u001b[0m\u001b[0m\n\u001b[0m",
      "\u001b[0;32m/Library/Python/2.7/site-packages/vapory/vapory.pyc\u001b[0m in \u001b[0;36mrender\u001b[0;34m(self, outfile, height, width, quality, antialiasing, remove_temp, auto_camera_angle)\u001b[0m\n\u001b[1;32m    100\u001b[0m \u001b[0;34m\u001b[0m\u001b[0m\n\u001b[1;32m    101\u001b[0m         return render_povstring(str(self), outfile, height, width,\n\u001b[0;32m--> 102\u001b[0;31m                                 quality, antialiasing, remove_temp)\n\u001b[0m\u001b[1;32m    103\u001b[0m \u001b[0;34m\u001b[0m\u001b[0m\n\u001b[1;32m    104\u001b[0m \u001b[0;34m\u001b[0m\u001b[0m\n",
      "\u001b[0;32m/Library/Python/2.7/site-packages/vapory/io.pyc\u001b[0m in \u001b[0;36mrender_povstring\u001b[0;34m(string, outfile, height, width, quality, antialiasing, remove_temp)\u001b[0m\n\u001b[1;32m    112\u001b[0m \u001b[0;34m\u001b[0m\u001b[0m\n\u001b[1;32m    113\u001b[0m     \u001b[0;32mif\u001b[0m \u001b[0mprocess\u001b[0m\u001b[0;34m.\u001b[0m\u001b[0mreturncode\u001b[0m\u001b[0;34m:\u001b[0m\u001b[0;34m\u001b[0m\u001b[0m\n\u001b[0;32m--> 114\u001b[0;31m         \u001b[0;32mraise\u001b[0m \u001b[0mIOError\u001b[0m\u001b[0;34m(\u001b[0m\u001b[0;34m\"POVRay rendering failed with the following error: \"\u001b[0m\u001b[0;34m+\u001b[0m\u001b[0merr\u001b[0m\u001b[0;34m)\u001b[0m\u001b[0;34m\u001b[0m\u001b[0m\n\u001b[0m\u001b[1;32m    115\u001b[0m \u001b[0;34m\u001b[0m\u001b[0m\n\u001b[1;32m    116\u001b[0m     \u001b[0;32mif\u001b[0m \u001b[0mreturn_np_array\u001b[0m\u001b[0;34m:\u001b[0m\u001b[0;34m\u001b[0m\u001b[0m\n",
      "\u001b[0;31mIOError\u001b[0m: POVRay rendering failed with the following error: povray: cannot open the user configuration file /Users/nukeme/.povray/3.7/povray.conf: No such file or directory\nPersistence of Vision(tm) Ray Tracer Version 3.7.0.unofficial (clang++ 4.2.1 @\n i386-apple-darwin14.5.0)\nThis is an unofficial version compiled by:\n homebrew\n The POV-Ray Team is not responsible for supporting this version.\n\nPOV-Ray is based on DKBTrace 2.12 by David K. Buck & Aaron A. Collins\nCopyright 1991-2013 Persistence of Vision Raytracer Pty. Ltd.\n\nPrimary POV-Ray 3.7 Architects/Developers: (Alphabetically)\n  Chris Cason         Thorsten Froehlich  Christoph Lipka   \n\nWith Assistance From: (Alphabetically)\n  Nicolas Calimet     Jerome Grimbert     James Holsenback    Christoph Hormann \n  Nathan Kopp         Juha Nieminen     \n\nPast Contributors: (Alphabetically)\n  Steve Anger         Eric Barish         Dieter Bayer        David K. Buck     \n  Nicolas Calimet     Chris Cason         Aaron A. Collins    Chris Dailey      \n  Steve Demlow        Andreas Dilger      Alexander Enzmann   Dan Farmer        \n  Thorsten Froehlich  Mark Gordon         James Holsenback    Christoph Hormann \n  Mike Hough          Chris Huff          Kari Kivisalo       Nathan Kopp       \n  Lutz Kretzschmar    Christoph Lipka     Jochen Lippert      Pascal Massimino  \n  Jim McElhiney       Douglas Muir        Juha Nieminen       Ron Parker        \n  Bill Pulver         Eduard Schwan       Wlodzimierz Skiba   Robert Skinner    \n  Yvo Smellenbergh    Zsolt Szalavari     Scott Taylor        Massimo Valentini \n  Timothy Wegner      Drew Wells          Chris Young       \n\nOther contributors are listed in the documentation.\n\nSupport libraries used by POV-Ray:\n  ZLib 1.2.5, Copyright 1995-2012 Jean-loup Gailly and Mark Adler\n  LibPNG 1.6.21, Copyright 1998-2012 Glenn Randers-Pehrson\n  LibJPEG 80, Copyright 1991-2013 Thomas G. Lane, Guido Vollbeding\n  LibTIFF 4.0.6, Copyright 1988-1997 Sam Leffler, 1991-1997 SGI\n  Boost 1.60, http://www.boost.org/\n\nParser Options\n  Input file: __temp__.pov\n  Remove bounds........On \n  Split unions.........Off\n  Library paths:\n    /usr/local/Cellar/povray/3.7.0.0_1/share/povray-3.7\n    /usr/local/Cellar/povray/3.7.0.0_1/share/povray-3.7/ini\n    /usr/local/Cellar/povray/3.7.0.0_1/share/povray-3.7/include\n  Clock value:    0.000  (Animation off)\nImage Output Options\n  Image resolution.....500 by 500 (rows 1 to 500, columns 1 to 500).\n  Output file..........__temp_ipython__.png, 24 bpp PNG\n  Dithering............Off\n  Graphic display......On  (gamma: sRGB)\n  Mosaic preview.......Off\n  Continued trace......Off\nInformation Output Options\n  All Streams to console..........On \n  Debug Stream to console.........On \n  Fatal Stream to console.........On \n  Render Stream to console........On \n  Statistics Stream to console....On \n  Warning Stream to console.......On \n==== [Parsing...] ==========================================================\nFile '__temp__.pov' line 45: Parse Error: Expected 'object or directive',\n undeclared identifier 'vapory' found instead\nFatal error in parser: Cannot parse input.\nRender failed\n\n"
     ]
    }
   ],
   "source": [
    "from vapory import *\n",
    "\n",
    "camera = Camera( 'ultra_wide_angle', 'angle', 10, \n",
    "                 'location', [25 , 25 , 35],\n",
    "                 'look_at',  [0.0 , 0.0 , 0.0])\n",
    "\n",
    "sun = LightSource([1500,2500,2500], 'color',1)\n",
    "\n",
    "sky = Sphere(  [0,0,0],1, 'hollow',\n",
    "              Texture(  Pigment(  'gradient', [0,1,0],\n",
    "                                  ColorMap([0, 'color', 'White'],\n",
    "                                           [1, 'color', 'Blue' ]),\n",
    "                                  'quick_color', 'White'),\n",
    "                        Finish( 'ambient', 1, 'diffuse', 0)),\n",
    "              'scale', 10000)\n",
    "\n",
    "ground =    Plane(  [0,0,-20], 20 ,\n",
    "            Texture( Pigment( 'color', [1.1*e for e in [1.80,1.35,1.55]])),\n",
    "            Finish(  'phong', 0.1 ))\n",
    "\n",
    "def createPolygon(r=2, tx=0,ty=0,tz=0, rx=0,ry=0,rz=0) : #5角形の初期値\n",
    "    return Polygon (5,\n",
    "               [r*cos(2*pi*1/5),r*sin(2*pi*1/5)],\n",
    "               [r*cos(2*pi*2/5),r*sin(2*pi*2/5)],\n",
    "               [r*cos(2*pi*3/5),r*sin(2*pi*3/5)],\n",
    "               [r*cos(2*pi*4/5),r*sin(2*pi*4/5)],\n",
    "               [r*cos(2*pi*5/5),r*sin(2*pi*5/5)], #正円を5等分することで五角形を作る\n",
    "               'translate',\n",
    "               [tx,ty,tz], #creatPolygonに呼び出される\n",
    "               'rotate',\n",
    "               [rx,ry,rz], #creatPolygonに呼び出される\n",
    "                           #先にTranslateして、それからRotateする\n",
    "               Texture( Pigment( 'color', [1.1*e for e in [1.40,0.45,0.85]]))) #テクスチャーの色\n",
    "\n",
    "scene = Scene(camera, [sun, sky ,ground\n",
    "                        ,Polygon],\n",
    "               included=['colors.inc', 'textures.inc'])\n",
    "\n",
    "scene.render('ipython', width=500, height=500, antialiasing=0.001)"
   ]
  },
  {
   "cell_type": "markdown",
   "metadata": {},
   "source": [
    "# testing 5 faces\n",
    "\n",
    "* tried sosogsgsoms"
   ]
  },
  {
   "cell_type": "code",
   "execution_count": 1,
   "metadata": {
    "collapsed": false
   },
   "outputs": [
    {
     "ename": "NameError",
     "evalue": "name 'camera' is not defined",
     "output_type": "error",
     "traceback": [
      "\u001b[0;31m---------------------------------------------------------------------------\u001b[0m",
      "\u001b[0;31mNameError\u001b[0m                                 Traceback (most recent call last)",
      "\u001b[0;32m/Library/Python/2.7/site-packages/vapory/__init__.pyc\u001b[0m in \u001b[0;36m<module>\u001b[0;34m()\u001b[0m\n\u001b[1;32m     16\u001b[0m                Texture( Pigment( 'color', [1.1*e for e in [1.40,0.45,0.85]]))) #テクスチャーの色\n\u001b[1;32m     17\u001b[0m \u001b[0;34m\u001b[0m\u001b[0m\n\u001b[0;32m---> 18\u001b[0;31m scene = Scene(camera, [sun, sky ,ground\n\u001b[0m\u001b[1;32m     19\u001b[0m                         ,f1,f2,f3,f4,f5,f6,f7,f8,f9,f10,f11,f12],\n\u001b[1;32m     20\u001b[0m                included=['colors.inc', 'textures.inc'])\n",
      "\u001b[0;31mNameError\u001b[0m: name 'camera' is not defined"
     ]
    }
   ],
   "source": [
    "from vapory import *\n",
    "from math import cos,sin,pi\n",
    "\n"
   ]
  },
  {
   "cell_type": "code",
   "execution_count": 25,
   "metadata": {
    "collapsed": false,
    "scrolled": false
   },
   "outputs": [
    {
     "ename": "SyntaxError",
     "evalue": "invalid syntax (<ipython-input-25-fc66ac951f1e>, line 60)",
     "output_type": "error",
     "traceback": [
      "\u001b[0;36m  File \u001b[0;32m\"<ipython-input-25-fc66ac951f1e>\"\u001b[0;36m, line \u001b[0;32m60\u001b[0m\n\u001b[0;31m    def createPolygon\u001b[0m\n\u001b[0m                     ^\u001b[0m\n\u001b[0;31mSyntaxError\u001b[0m\u001b[0;31m:\u001b[0m invalid syntax\n"
     ]
    }
   ],
   "source": [
    "from vapory import *\n",
    "from math import cos,sin,pi\n",
    "# Mathからコサイン、サイン、円周率を呼び出す\n",
    "\n",
    "camera = Camera( 'ultra_wide_angle', 'angle', 10, #カメラの位置、アングルの設定\n",
    "                 'location', [25 , 25 , 35],\n",
    "                 'look_at',  [0.0 , 0.0 , 0.0])\n",
    "\n",
    "sun = LightSource([1500,2500,2500], 'color',1) #光源の設定\n",
    "\n",
    "sky = Sphere([0,0,0], #空の設定\n",
    "             1,\n",
    "             'hollow',\n",
    "             Texture(Pigment('gradient',\n",
    "                             [0,1,0],\n",
    "                             ColorMap([0,'color','White'],[1, 'color', 'Blue' ]),\n",
    "                             'quick_color',\n",
    "                             'White'\n",
    "                            ),\n",
    "                     Finish('ambient',\n",
    "                            1,\n",
    "                            'diffuse', \n",
    "                            0\n",
    "                           )\n",
    "                    ),\n",
    "              'scale',\n",
    "              10000\n",
    "             )\n",
    "\n",
    "ground =    Plane(  [0,0,-20], 20 , #地面の設定\n",
    "            Texture( Pigment( 'color', [1.1*e for e in [1.80,1.35,1.55]])),\n",
    "            Finish(  'phong', 0.1 )) #Phongシェーディング\n",
    "\n",
    "x = (1*pow(5,1/2)+1)/2 #ルート5\n",
    "\n",
    "a = [1,0,0]\n",
    "b = [cos(72),sin(72),0]\n",
    "c = [cos(-36),sin(36),0]\n",
    "d = [cos(-36),sin(-36),0]\n",
    "e = [cos(72),sin(-72),0]\n",
    "\n",
    "f = [x,0,1]\n",
    "h = [x*(cos(72)),x*(sin(72)),1]\n",
    "j = [-x*(cos(36)),x*(sin(36)),1]\n",
    "l = [-x*(cos(36)),-x*(sin(36)),1]\n",
    "n = [x*(cos(72)),-x*(sin(72),1)]\n",
    "\n",
    "g = [x*(cos(36)),x*(sin(36)),x]\n",
    "i = [-x*(cos(72)),x*(sin(72)),x]\n",
    "k = [-x,0,x]\n",
    "m = [-x*(cos(72)),-x*(sin(72)),x]\n",
    "o = [x*(cos(36)),-x*(sin(36)),x]\n",
    "\n",
    "p = [-1,0,x+1]\n",
    "q = [cos(-72),sin(-72),x+1]\n",
    "r = [cos(36),sin(-36),x+1]\n",
    "s = [cos(36),sin(36),x+1]\n",
    "t = [cos(-72),sin(72),x+1] #正12面体の20の頂点座標\n",
    "\n",
    "def createPolygon\n",
    "f1  = createPolygon(t,s,r,q,p)\n",
    "f2  = createPolygon(q,r,o,n,m)\n",
    "f3  = createPolygon(q,m,l,k,p)\n",
    "f4  = createPolygon(p,k,j,i,t)\n",
    "f5  = createPolygon(t,i,h,g,s)\n",
    "f6  = createPolygon(s,g,f,o,r) #手前の6面を生成\n",
    "\n",
    "f7  = createPolygon(c,b,a,e,d)\n",
    "f8  = createPolygon(b,h,g,f,a)\n",
    "f9  = createPolygon(a,f,o,n,e)\n",
    "f10 = createPolygon(e,n,m,l,d)\n",
    "f11 = createPolygon(d,l,k,j,c)\n",
    "f12 = createPolygon(c,j,i,h,b) #奥の6面を生成\n",
    "\n",
    "scene = Scene(camera, [sun, sky ,ground\n",
    "                        ,f1,f2,f3,f4,f5,f6,f7,f8,f9,f10,f11,f12],\n",
    "               included=['colors.inc', 'textures.inc'])\n",
    "\n",
    "scene.render('ipython', width=500, height=500, antialiasing=0.001)\n",
    "\n",
    "# 参考URL: http://yosshy.sansu.org/12mentai.htm\n",
    "\n",
    "\"\"\"\n",
    "def createPolygon(r=2, tx=0,ty=0,tz=0, rx=0,ry=0,rz=0) : #5角形の初期値\n",
    "    return Polygon (5,\n",
    "               [r*cos(2*pi*1/5),r*sin(2*pi*1/5)],\n",
    "               [r*cos(2*pi*2/5),r*sin(2*pi*2/5)],\n",
    "               [r*cos(2*pi*3/5),r*sin(2*pi*3/5)],\n",
    "               [r*cos(2*pi*4/5),r*sin(2*pi*4/5)],\n",
    "               [r*cos(2*pi*5/5),r*sin(2*pi*5/5)], #正円を5等分することで五角形を作る\n",
    "               'translate',\n",
    "               [tx,ty,tz], #creatPolygonに呼び出される\n",
    "               'rotate',\n",
    "               [rx,ry,rz], #creatPolygonに呼び出される\n",
    "                           #先にTranslateして、それからRotateする\n",
    "               Texture( Pigment( 'color', [1.1*e for e in [1.40,0.45,0.85]]))) #テクスチャーの色\n",
    "\"\"\""
   ]
  },
  {
   "cell_type": "code",
   "execution_count": null,
   "metadata": {
    "collapsed": false
   },
   "outputs": [],
   "source": [
    "p1  = Polygon (3,[-1, 0],[1, 0],[0, 2*pow(3,1/2)],'rotate', [ 90,       0,   0],'translate',[ 0,0, 0],Texture( Pigment( 'color', [1.1*e for e in [1.40,0.45,0.85]])))\n",
    "p2  = Polygon (3,[-1, 0],[1, 0],[0, 2*pow(3,1/2)],'rotate', [ 90,     108,   0],'translate',[ 0,0, 0],Texture( Pigment( 'color', [1.1*e for e in [0.40,1.45,0.85]])))\n",
    "p3  = Polygon (3,[-1, 0],[1, 0],[0, 2*pow(3,1/2)],'rotate', [ 90,   2*108,   0],'translate',[ 0,0, 0],Texture( Pigment( 'color', [1.1*e for e in [0.40,0.45,1.85]])))\n",
    "p4  = Polygon (3,[-1, 0],[1, 0],[0, 2*pow(3,1/2)],'rotate', [ 90,   3*108,   0],'translate',[ 0,0, 0],Texture( Pigment( 'color', [1.1*e for e in [1.40,1.45,0.85]])))\n",
    "p5  = Polygon (3,[-1, 0],[1, 0],[0, 2*pow(3,1/2)],'rotate', [ 90,   4*108,   0],'translate',[ 0,0, 0],Texture( Pigment( 'color', [1.1*e for e in [0.40,1.45,1.85]])))\n",
    "\n",
    "p6  = Polygon (3,[-1, 0],[1, 0],[0, 2*pow(3,1/2)],'rotate', [ 30+180, 90,   0],'translate',[ 1,0, 0],Texture( Pigment( 'color', [1.1*e for e in [1.40,0.45,0.85]])))\n",
    "p7  = Polygon (3,[-1, 0],[1, 0],[0, 2*pow(3,1/2)],'rotate', [ 30+180,180,   0],'translate',[ 0,0,-1],Texture( Pigment( 'color', [1.1*e for e in [0.40,1.45,0.85]])))\n",
    "p8  = Polygon (3,[-1, 0],[1, 0],[0, 2*pow(3,1/2)],'rotate', [ 30+180,270,   0],'translate',[-1,0, 0],Texture( Pigment( 'color', [1.1*e for e in [0.40,0.45,1.85]])))\n",
    "p9  = Polygon (3,[-1, 0],[1, 0],[0, 2*pow(3,1/2)],'rotate', [-30,      0,   0],'translate',[ 0,0, 1],Texture( Pigment( 'color', [1.1*e for e in [0.40,0.45,0.85]])))\n",
    "p10 = Polygon (3,[-1, 0],[1, 0],[0, 2*pow(3,1/2)],'rotate', [-30,     90,   0],'translate',[ 1,0, 0],Texture( Pigment( 'color', [1.1*e for e in [1.40,0.45,0.85]])))\n",
    "\n",
    "p11 = Polygon (3,[-1, 0],[1, 0],[0, 2*pow(3,1/2)],'rotate', [-30,    180,   0],'translate',[ 0,0,-1],Texture( Pigment( 'color', [1.1*e for e in [0.40,1.45,0.85]])))\n",
    "p12 = Polygon (3,[-1, 0],[1, 0],[0, 2*pow(3,1/2)],'rotate', [-30,    270,   0],'translate',[-1,0, 0],Texture( Pigment( 'color', [1.1*e for e in [0.40,0.45,1.85]])))\n",
    "p13 = Polygon (3,[-1, 0],[1, 0],[0, 2*pow(3,1/2)],'rotate', [ 30+180,  0,   0],'translate',[ 0,0, 1],Texture( Pigment( 'color', [1.1*e for e in [0.40,0.45,0.85]])))\n",
    "p14 = Polygon (3,[-1, 0],[1, 0],[0, 2*pow(3,1/2)],'rotate', [ 30+180, 90,   0],'translate',[ 1,0, 0],Texture( Pigment( 'color', [1.1*e for e in [1.40,0.45,0.85]])))\n",
    "p15 = Polygon (3,[-1, 0],[1, 0],[0, 2*pow(3,1/2)],'rotate', [ 30+180,180,   0],'translate',[ 0,0,-1],Texture( Pigment( 'color', [1.1*e for e in [0.40,1.45,0.85]])))\n",
    "p16 = Polygon (3,[-1, 0],[1, 0],[0, 2*pow(3,1/2)],'rotate', [ 30+180,270,   0],'translate',[-1,0, 0],Texture( Pigment( 'color', [1.1*e for e in [0.40,0.45,1.85]])))\n",
    "p17 = Polygon (3,[-1, 0],[1, 0],[0, 2*pow(3,1/2)],'rotate', [-30,      0,   0],'translate',[ 0,0, 1],Texture( Pigment( 'color', [1.1*e for e in [0.40,0.45,0.85]])))\n",
    "p18 = Polygon (3,[-1, 0],[1, 0],[0, 2*pow(3,1/2)],'rotate', [-30,     90,   0],'translate',[ 1,0, 0],Texture( Pigment( 'color', [1.1*e for e in [1.40,0.45,0.85]])))\n",
    "p19 = Polygon (3,[-1, 0],[1, 0],[0, 2*pow(3,1/2)],'rotate', [-30,    180,   0],'translate',[ 0,0,-1],Texture( Pigment( 'color', [1.1*e for e in [0.40,1.45,0.85]])))\n",
    "p20 = Polygon (3,[-1, 0],[1, 0],[0, 2*pow(3,1/2)],'rotate', [-30,    270,   0],'translate',[-1,0, 0],Texture( Pigment( 'color', [1.1*e for e in [0.40,0.45,1.85]])))\n",
    "\n",
    "scene = Scene( camera, [sun, sky ,ground\n",
    "                        ,p1,p2,p3,p4,p5\n",
    "                        \n",
    "                       ],\n",
    "               included=['colors.inc', 'textures.inc'])\n",
    "\n",
    "scene.render('ipython', width=500, height=500, antialiasing=0.001)"
   ]
  }
 ],
 "metadata": {
  "kernelspec": {
   "display_name": "Python 2",
   "language": "python",
   "name": "python2"
  },
  "language_info": {
   "codemirror_mode": {
    "name": "ipython",
    "version": 2
   },
   "file_extension": ".py",
   "mimetype": "text/x-python",
   "name": "python",
   "nbconvert_exporter": "python",
   "pygments_lexer": "ipython2",
   "version": "2.7.10"
  }
 },
 "nbformat": 4,
 "nbformat_minor": 0
}
