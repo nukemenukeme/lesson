{
 "cells": [
  {
   "cell_type": "code",
   "execution_count": null,
   "metadata": {
    "collapsed": true
   },
   "outputs": [],
   "source": [
    "# 20面体"
   ]
  },
  {
   "cell_type": "code",
   "execution_count": 13,
   "metadata": {
    "collapsed": false
   },
   "outputs": [
    {
     "data": {
      "image/png": "[encoded data removed]",
      "text/plain": [
       "<IPython.core.display.Image object>"
      ]
     },
     "execution_count": 13,
     "metadata": {},
     "output_type": "execute_result"
    }
   ],
   "source": [
    "from vapory import *\n",
    "from math import cos,sin,pi\n",
    "# Mathからコサイン、サイン、円周率を呼び出す\n",
    "\n",
    "camera = Camera( 'ultra_wide_angle', 'angle', 10, #カメラの位置、アングルの設定\n",
    "                 'location', [25 , 25 , 25],\n",
    "                 'look_at',  [0.0 , 0.0 , 0.0])\n",
    "\n",
    "sun = LightSource([1500,2500,2500], 'color',1) #光源の設定\n",
    "\n",
    "sky = Sphere([0,0,0], #空の設定\n",
    "             1,\n",
    "             'hollow',\n",
    "             Texture(Pigment('gradient',\n",
    "                             [0,1,0],\n",
    "                             ColorMap([0,'color','White'],[1, 'color', 'Blue' ]),\n",
    "                             'quick_color',\n",
    "                             'White'\n",
    "                            ),\n",
    "                     Finish('ambient',\n",
    "                            1,\n",
    "                            'diffuse', \n",
    "                            0\n",
    "                           )\n",
    "                    ),\n",
    "              'scale',\n",
    "              10000\n",
    "             )\n",
    "\n",
    "ground =    Plane(  [0,0,-20], 20 , #地面の設定\n",
    "            Texture( Pigment( 'color', [1.1*e for e in [1.80,1.35,1.55]])),\n",
    "            Finish(  'phong', 0.1 )) #Phongシェーディング\n",
    "\n",
    "# x = (pow(5,1.0/2.0)+1)/2 #ルート5\n",
    "\n",
    "\"\"\"\n",
    "Ａ：(1, √3, (-3-√5)/2)\n",
    "Ｂ：(-2, 0, (-3-√5)/2)\n",
    "Ｃ：(1, -√3, (-3-√5)/2)\n",
    "Ｄ：(-(1+√5)/2, -(1+√5)√3/2, (1-√5)/2)\n",
    "Ｅ：(1+√5, 0, (1-√5)/2)\n",
    "Ｆ：(-(1+√5)/2, (1+√5)√3/2, (1-√5)/2)\n",
    "Ｇ：((1+√5)/2, (1+√5)√3/2, (√5-1)/2)\n",
    "Ｈ：(-1-√5, 0, (√5-1)/2)\n",
    "Ｉ：((1+√5)/2, -(1+√5)√3/2, (√5-1)/2)\n",
    "Ｊ：(-1, -√3, (3+√5)/2)\n",
    "Ｋ：(2, 0, (3+√5)/2)\n",
    "Ｌ：(-1, √3, (3+√5)/2)\n",
    "\n",
    "[1, pow(3,1.0/2.0), -3-(pow(5,1.0/2.0)/2]  #a=0\n",
    "[-2, 0, -3-(pow(5,1.0/2.0)/2]              #b=1\n",
    "(1, pow(-3,1.0/2.0), -3-(pow(5,1.0/2.0)/2] #c=2\n",
    "Ｄ：(-(1+√5)/2, -(1+√5)√3/2, (1-√5)/2)      #d=3\n",
    "Ｅ：(1+√5, 0, (1-√5)/2)                     #e=4\n",
    "Ｆ：(-(1+√5)/2, (1+√5)√3/2, (1-√5)/2)       #f=5\n",
    "Ｇ：((1+√5)/2, (1+√5)√3/2, (√5-1)/2)        #g=6\n",
    "Ｈ：(-1-√5, 0, (√5-1)/2)                    #h=7\n",
    "Ｉ：((1+√5)/2, -(1+√5)√3/2, (√5-1)/2)       #i=8\n",
    "Ｊ：(-1, -√3, (3+√5)/2)                     #j=9\n",
    "Ｋ：(2, 0, (3+√5)/2)                        #k=10\n",
    "Ｌ：(-1, √3, (3+√5)/2)                      #l=11\n",
    "\"\"\"\n",
    "\n",
    "mesh = Mesh2(\n",
    "    VertexVectors( #正12面体の20の頂点座標 #xyzの座標指定\n",
    "        20, \n",
    "        [1,0,0],                                                 #a=0\n",
    "        [cos(72*((2*pi)/360)),sin(72*((2*pi)/360)),0],           #b=1\n",
    "        [-cos(36*((2*pi)/360)),sin(36*((2*pi)/360)),0],          #c=2\n",
    "        [-cos(36*((2*pi)/360)),-sin(36*((2*pi)/360)),0],         #d=3\n",
    "        [cos(72*((2*pi)/360)),-sin(72*((2*pi)/360)),0],          #e=4\n",
    "        [x,0,1],                                                 #f=5\n",
    "        [x*(cos(72*((2*pi)/360))),x*(sin(72*((2*pi)/360))),1],   #h=6\n",
    "        [-x*(cos(36*((2*pi)/360))),x*(sin(36*((2*pi)/360))),1],  #j=7\n",
    "        [x*(-cos(36*((2*pi)/360))),x*(-sin(36*((2*pi)/360))),1], #l=8\n",
    "        [x*(cos(72*((2*pi)/360))),-x*(sin(72*((2*pi)/360))),1],  #n=9\n",
    "        [x*(cos(36*((2*pi)/360))),x*(sin(36*((2*pi)/360))),x],   #g=10\n",
    "        [-x*(cos(72*((2*pi)/360))),x*(sin(72*((2*pi)/360))),x],  #i=11\n",
    "        [-x,0,x],                                                #k=12\n",
    "        [-x*(cos(72*((2*pi)/360))),-x*(sin(72*((2*pi)/360))),x], #m=13\n",
    "        [x*(cos(36*((2*pi)/360))),-x*(sin(36*((2*pi)/360))),x],  #o=14\n",
    "        [-1,0,x+1],                                              #p=15\n",
    "        [-cos(72*((2*pi)/360)),-sin(72*((2*pi)/360)),x+1],       #q=16\n",
    "        [cos(36*((2*pi)/360)),-sin(36*((2*pi)/360)),x+1],        #r=17\n",
    "        [cos(36*((2*pi)/360)),sin(36*((2*pi)/360)),x+1],         #s=18\n",
    "        [-cos(72*((2*pi)/360)),sin(72*((2*pi)/360)),x+1]         #t=19\n",
    "    ),\n",
    "    FaceIndices( #VertexVectorsの配列から数字(順番)を指定して呼び出す\n",
    "        20,\n",
    "        []\n",
    "    ),\n",
    "    Pigment('color', [1.1*e for e in [1.0,1.85,6.85]])\n",
    ")\n",
    "\n",
    "scene = Scene(camera, [sun,sky,ground,mesh],\n",
    "               included=['colors.inc', 'textures.inc'])\n",
    "\n",
    "scene.render('ipython', width=600, height=600, antialiasing=0.001)"
   ]
  }
 ],
 "metadata": {
  "kernelspec": {
   "display_name": "Python 2",
   "language": "python",
   "name": "python2"
  },
  "language_info": {
   "codemirror_mode": {
    "name": "ipython",
    "version": 2
   },
   "file_extension": ".py",
   "mimetype": "text/x-python",
   "name": "python",
   "nbconvert_exporter": "python",
   "pygments_lexer": "ipython2",
   "version": "2.7.10"
  }
 },
 "nbformat": 4,
 "nbformat_minor": 0
}
