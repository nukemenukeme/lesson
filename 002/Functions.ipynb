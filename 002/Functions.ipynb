{
 "cells": [
  {
   "cell_type": "code",
   "execution_count": 5,
   "metadata": {
    "collapsed": false
   },
   "outputs": [
    {
     "data": {
      "text/plain": [
       "[1, 2, 3, 4, 5]"
      ]
     },
     "execution_count": 5,
     "metadata": {},
     "output_type": "execute_result"
    }
   ],
   "source": [
    "#1.数字の配列を受け取ってそれを小さい順に並び替えた配列を返す関数\n",
    "#参考URL http://docs.python.jp/2/howto/sorting.html\n",
    "\n",
    "sorted([5, 2, 3, 1, 4])"
   ]
  },
  {
   "cell_type": "code",
   "execution_count": 46,
   "metadata": {
    "collapsed": false
   },
   "outputs": [
    {
     "data": {
      "text/plain": [
       "[1, 2, 3, 4, 5]"
      ]
     },
     "execution_count": 46,
     "metadata": {},
     "output_type": "execute_result"
    }
   ],
   "source": [
    "#1.数字の配列を受け取ってそれを小さい順に並び替えた配列を返す関数\n",
    "#パターンB\n",
    "\n",
    "a = [5, 2, 3, 1, 4]\n",
    "sorted(a)"
   ]
  },
  {
   "cell_type": "code",
   "execution_count": 19,
   "metadata": {
    "collapsed": false
   },
   "outputs": [
    {
     "data": {
      "text/plain": [
       "6765"
      ]
     },
     "execution_count": 19,
     "metadata": {},
     "output_type": "execute_result"
    }
   ],
   "source": [
    "#2.フィボナッチ数列の第n項を求める関数\n",
    "#参考URL http://qiita.com/HirofumiYashima/items/86dffd7a21a586558dc8\n",
    "\n",
    "def fibonacci(n, a=1, b=0): #フィボナッチをdef(定義)する\n",
    "     return b if n < 1 else fibonacci(n - 1, a + b, a)\n",
    "\n",
    "    #nが1より大きければbをreturnする\n",
    "    #elseであればfibonacci内でn-1して、a+bして、bにaを置く\n",
    "\n",
    "fibonacci(20, a=1, b=0)"
   ]
  },
  {
   "cell_type": "code",
   "execution_count": 31,
   "metadata": {
    "collapsed": false
   },
   "outputs": [
    {
     "name": "stdout",
     "output_type": "stream",
     "text": [
      "0\n",
      "1\n",
      "1\n",
      "2\n",
      "3\n",
      "5\n",
      "8\n",
      "13\n",
      "21\n",
      "34\n",
      "55\n",
      "89\n",
      "144\n",
      "233\n",
      "377\n",
      "610\n",
      "987\n",
      "1597\n"
     ]
    }
   ],
   "source": [
    "#ふぃぼ\n",
    "\n",
    "def fib(n):\n",
    "    a, b = 0, 1\n",
    "    while a < n:\n",
    "        print (a)\n",
    "        a, b = b, a+b\n",
    "\n",
    "fib(2000)"
   ]
  },
  {
   "cell_type": "code",
   "execution_count": 19,
   "metadata": {
    "collapsed": false
   },
   "outputs": [
    {
     "name": "stdout",
     "output_type": "stream",
     "text": [
      "<function is_prime_trial_division at 0x10f926b90>\n"
     ]
    }
   ],
   "source": [
    "#3.与えられた数が素数かどうかを判定する関数\n",
    " \n",
    "# 試し割り法による素数判定\n",
    "# 整数nが素数であるか判定する\n",
    "# 参考：高橋直大『最強最速アルゴリズマー養成講座』pp.408-409\n",
    "# 参考URL http://hamukichi.hatenablog.jp/entry/2016/02/17/215948\n",
    "\n",
    "import sys\n",
    "\n",
    "n = 13997\n",
    "\n",
    "def is_prime_trial_division(n):\n",
    "    if n < 2:\n",
    "        return False          #nが2よりも小さければ、Falseにreturnする\n",
    "    else:                     #nが2よりも大きい場合\n",
    "        for i in range(2, n): #2からnまでのrangeがiにin(代入)され続ける\n",
    "            if i * i > n:     #iの自乗がnより大きければ\n",
    "                break         #break(終了)する\n",
    "            elif n % i == 0:  #nをiで割った余りが0ならば\n",
    "                return False  #Falseにreturnする\n",
    "        return True           #Trueにreturnする\n",
    "\n",
    "print is_prime_trial_division #試しに出力してみた #変な結果が出た\n",
    "    \n",
    "if __name__ == '__main__':    #出力先が変なところになってる？\n",
    "    for line in sys.stdin:\n",
    "        n = int(line)\n",
    "        if is_prime_trial_division(n):\n",
    "            print(\"{} is a prime number.\".format(n))\n",
    "        else:\n",
    "            print(\"{} is not a prime number.\".format(n))"
   ]
  },
  {
   "cell_type": "code",
   "execution_count": 9,
   "metadata": {
    "collapsed": false
   },
   "outputs": [
    {
     "name": "stdout",
     "output_type": "stream",
     "text": [
      "Not phonenumber\n"
     ]
    }
   ],
   "source": [
    "#4.与えられた文字列が電話番号を示す文字列であるかどうかを判定する関数\n",
    "\n",
    "# e.g.\n",
    "# 携帯番号 090-xxxx-xxxx\n",
    "# 市外局番 03-xxxx-xxxx 086-xxx-xxxx\n",
    "# フリーダイヤル 0120-xxx-xxx\n",
    "# 国際番号 (+81)90-xxxx-xxxx\n",
    "\n",
    "# 桁数が10~12\n",
    "# 内線番号4桁が末尾につく場合がある\n",
    "# ハイフン、ドット、スペース、もしくはそれら無しの数字の羅列、の場合がある\n",
    "\n",
    "n = '090-9415-6783'\n",
    "\n",
    "if n is r'(\\d{3})\\D*(\\d{3})\\D*(\\d{4})\\D*(\\d*)$':\n",
    "    print 'Phonenumber'\n",
    "else:\n",
    "    print 'Not phonenumber'"
   ]
  },
  {
   "cell_type": "code",
   "execution_count": 12,
   "metadata": {
    "collapsed": false
   },
   "outputs": [
    {
     "name": "stdout",
     "output_type": "stream",
     "text": [
      "1\n",
      "2\n",
      "3\n",
      "4\n",
      "5\n",
      "6\n",
      "7\n",
      "8\n",
      "9\n",
      "10\n"
     ]
    }
   ],
   "source": [
    "#練習 #色んなものをとりあえず出力させる場所\n",
    "\n",
    "if __name__ == \"__main__\":\n",
    "\n",
    "    counter = 0\n",
    "\n",
    "    while counter < 10:\n",
    "        counter += 1\n",
    "        print counter"
   ]
  }
 ],
 "metadata": {
  "kernelspec": {
   "display_name": "Python 2",
   "language": "python",
   "name": "python2"
  },
  "language_info": {
   "codemirror_mode": {
    "name": "ipython",
    "version": 2
   },
   "file_extension": ".py",
   "mimetype": "text/x-python",
   "name": "python",
   "nbconvert_exporter": "python",
   "pygments_lexer": "ipython2",
   "version": "2.7.10"
  }
 },
 "nbformat": 4,
 "nbformat_minor": 0
}
