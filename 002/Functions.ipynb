{
 "cells": [
  {
   "cell_type": "code",
   "execution_count": 5,
   "metadata": {
    "collapsed": false
   },
   "outputs": [
    {
     "data": {
      "text/plain": [
       "[1, 2, 3, 4, 5]"
      ]
     },
     "execution_count": 5,
     "metadata": {},
     "output_type": "execute_result"
    }
   ],
   "source": [
    "#1.数字の配列を受け取ってそれを小さい順に並び替えた配列を返す関数\n",
    "#参考URL http://docs.python.jp/2/howto/sorting.html\n",
    "\n",
    "sorted([5, 2, 3, 1, 4])"
   ]
  },
  {
   "cell_type": "code",
   "execution_count": 46,
   "metadata": {
    "collapsed": false
   },
   "outputs": [
    {
     "data": {
      "text/plain": [
       "[1, 2, 3, 4, 5]"
      ]
     },
     "execution_count": 46,
     "metadata": {},
     "output_type": "execute_result"
    }
   ],
   "source": [
    "#1.数字の配列を受け取ってそれを小さい順に並び替えた配列を返す関数\n",
    "#パターンB\n",
    "\n",
    "a = [5, 2, 3, 1, 4]\n",
    "sorted(a)"
   ]
  },
  {
   "cell_type": "code",
   "execution_count": 19,
   "metadata": {
    "collapsed": false
   },
   "outputs": [
    {
     "data": {
      "text/plain": [
       "6765"
      ]
     },
     "execution_count": 19,
     "metadata": {},
     "output_type": "execute_result"
    }
   ],
   "source": [
    "#2.フィボナッチ数列の第n項を求める関数\n",
    "#参考URL http://qiita.com/HirofumiYashima/items/86dffd7a21a586558dc8\n",
    "\n",
    "def fibonacci(n, a=1, b=0): #フィボナッチをdef(定義)する\n",
    "     return b if n < 1 else fibonacci(n - 1, a + b, a)\n",
    "\n",
    "    #nが1より大きければbをreturnする\n",
    "    #elseであればfibonacci内でn-1して、a+bして、bにaを置く\n",
    "\n",
    "fibonacci(20, a=1, b=0)"
   ]
  },
  {
   "cell_type": "code",
   "execution_count": 31,
   "metadata": {
    "collapsed": false
   },
   "outputs": [
    {
     "name": "stdout",
     "output_type": "stream",
     "text": [
      "0\n",
      "1\n",
      "1\n",
      "2\n",
      "3\n",
      "5\n",
      "8\n",
      "13\n",
      "21\n",
      "34\n",
      "55\n",
      "89\n",
      "144\n",
      "233\n",
      "377\n",
      "610\n",
      "987\n",
      "1597\n"
     ]
    }
   ],
   "source": [
    "#任意の数までのフィボナッチ数列を全部表示させる\n",
    "\n",
    "def fib(n):\n",
    "    a, b = 0, 1\n",
    "    while a < n:\n",
    "        print (a)\n",
    "        a, b = b, a+b\n",
    "\n",
    "fib(2000)"
   ]
  },
  {
   "cell_type": "code",
   "execution_count": 19,
   "metadata": {
    "collapsed": false
   },
   "outputs": [
    {
     "name": "stdout",
     "output_type": "stream",
     "text": [
      "<function is_prime_trial_division at 0x10f926b90>\n"
     ]
    }
   ],
   "source": [
    "#3.与えられた数が素数かどうかを判定する関数\n",
    " \n",
    "# 試し割り法による素数判定\n",
    "# 整数nが素数であるか判定する\n",
    "# 参考：高橋直大『最強最速アルゴリズマー養成講座』pp.408-409\n",
    "# 参考URL http://hamukichi.hatenablog.jp/entry/2016/02/17/215948\n",
    "\n",
    "import sys\n",
    "\n",
    "n = 13997\n",
    "\n",
    "def is_prime_trial_division(n):\n",
    "    if n < 2:\n",
    "        return False          #nが2よりも小さければ、Falseにreturnする。\n",
    "    else:                     #nが2よりも大きい場合、\n",
    "        for i in range(2, n): #2からnまでのrangeでループさせ、\n",
    "            if i * i > n:     #iの自乗がnより大きくなれば、\n",
    "                break         #break(終了)する。\n",
    "            elif n % i == 0:  #nをiで割った余りが0ならば、\n",
    "                return False  #Falseにreturnする。\n",
    "        return True           #Trueにreturnする\n",
    "\n",
    "print is_prime_trial_division #試しに出力してみた #変な結果が出た\n",
    "    \n",
    "if __name__ == '__main__':    #出力先が変なところになってる？\n",
    "    for line in sys.stdin:\n",
    "        n = int(line)\n",
    "        if is_prime_trial_division(n):\n",
    "            print(\"{} is a prime number.\".format(n))\n",
    "        else:\n",
    "            print(\"{} is not a prime number.\".format(n))"
   ]
  },
  {
   "cell_type": "code",
   "execution_count": 9,
   "metadata": {
    "collapsed": false
   },
   "outputs": [
    {
     "name": "stdout",
     "output_type": "stream",
     "text": [
      "Not phonenumber\n"
     ]
    }
   ],
   "source": [
    "#4.与えられた文字列が電話番号を示す文字列であるかどうかを判定する関数\n",
    "\n",
    "# e.g.\n",
    "# 携帯番号 090-xxxx-xxxx\n",
    "# 市外局番 03-xxxx-xxxx 086-xxx-xxxx\n",
    "# フリーダイヤル 0120-xxx-xxx\n",
    "# 国際番号 (+81)90-xxxx-xxxx\n",
    "\n",
    "# 桁数が10~12\n",
    "# 内線番号4桁が末尾につく場合がある\n",
    "# ハイフン、ドット、スペース、もしくはそれら無しの数字の羅列、の場合がある\n",
    "\n",
    "n = '090-9415-6783'\n",
    "\n",
    "if n is r'(\\d{3})\\D*(\\d{3})\\D*(\\d{4})\\D*(\\d*)$':\n",
    "    print 'Phonenumber'\n",
    "else:\n",
    "    print 'Not phonenumber'"
   ]
  },
  {
   "cell_type": "code",
   "execution_count": 12,
   "metadata": {
    "collapsed": false
   },
   "outputs": [
    {
     "name": "stdout",
     "output_type": "stream",
     "text": [
      "1\n",
      "2\n",
      "3\n",
      "4\n",
      "5\n",
      "6\n",
      "7\n",
      "8\n",
      "9\n",
      "10\n"
     ]
    }
   ],
   "source": [
    "#練習 #色んなものをとりあえず出力させる場所\n",
    "\n",
    "if __name__ == \"__main__\":\n",
    "\n",
    "    counter = 0\n",
    "\n",
    "    while counter < 10:\n",
    "        counter += 1\n",
    "        print counter"
   ]
  },
  {
   "cell_type": "code",
   "execution_count": 34,
   "metadata": {
    "collapsed": false
   },
   "outputs": [
    {
     "name": "stdout",
     "output_type": "stream",
     "text": [
      "1\n",
      "2\n",
      "3\n"
     ]
    }
   ],
   "source": [
    "#練習 #色んなものをとりあえず出力させる場所\n",
    "\n",
    "for i in range(1, 4):\n",
    "    print(i)"
   ]
  },
  {
   "cell_type": "code",
   "execution_count": 35,
   "metadata": {
    "collapsed": false
   },
   "outputs": [
    {
     "name": "stdout",
     "output_type": "stream",
     "text": [
      "('cat', 3)\n",
      "('dog', 3)\n",
      "('monky', 5)\n"
     ]
    }
   ],
   "source": [
    "#練習 #色んなものをとりあえず出力させる場所\n",
    "\n",
    "animal = ['cat', 'dog', 'monky']\n",
    "for x in animal:\n",
    "    print(x, len(x))"
   ]
  },
  {
   "cell_type": "code",
   "execution_count": 40,
   "metadata": {
    "collapsed": false
   },
   "outputs": [
    {
     "name": "stdout",
     "output_type": "stream",
     "text": [
      "(2, 'Prime')\n",
      "(3, 'Prime')\n",
      "(4, 2, '*', 2)\n",
      "(5, 'Prime')\n",
      "(6, 2, '*', 3)\n",
      "(7, 'Prime')\n",
      "(8, 2, '*', 4)\n",
      "(9, 3, '*', 3)\n",
      "(10, 2, '*', 5)\n",
      "(11, 'Prime')\n",
      "(12, 2, '*', 6)\n",
      "(13, 'Prime')\n",
      "(14, 2, '*', 7)\n",
      "(15, 3, '*', 5)\n",
      "(16, 2, '*', 8)\n",
      "(17, 'Prime')\n",
      "(18, 2, '*', 9)\n",
      "(19, 'Prime')\n",
      "(20, 2, '*', 10)\n",
      "(21, 3, '*', 7)\n",
      "(22, 2, '*', 11)\n",
      "(23, 'Prime')\n",
      "(24, 2, '*', 12)\n",
      "(25, 5, '*', 5)\n",
      "(26, 2, '*', 13)\n",
      "(27, 3, '*', 9)\n",
      "(28, 2, '*', 14)\n",
      "(29, 'Prime')\n",
      "(30, 2, '*', 15)\n",
      "(31, 'Prime')\n",
      "(32, 2, '*', 16)\n",
      "(33, 3, '*', 11)\n",
      "(34, 2, '*', 17)\n",
      "(35, 5, '*', 7)\n",
      "(36, 2, '*', 18)\n",
      "(37, 'Prime')\n",
      "(38, 2, '*', 19)\n",
      "(39, 3, '*', 13)\n",
      "(40, 2, '*', 20)\n",
      "(41, 'Prime')\n",
      "(42, 2, '*', 21)\n",
      "(43, 'Prime')\n",
      "(44, 2, '*', 22)\n",
      "(45, 3, '*', 15)\n",
      "(46, 2, '*', 23)\n",
      "(47, 'Prime')\n",
      "(48, 2, '*', 24)\n",
      "(49, 7, '*', 7)\n",
      "(50, 2, '*', 25)\n",
      "(51, 3, '*', 17)\n",
      "(52, 2, '*', 26)\n",
      "(53, 'Prime')\n",
      "(54, 2, '*', 27)\n",
      "(55, 5, '*', 11)\n",
      "(56, 2, '*', 28)\n",
      "(57, 3, '*', 19)\n",
      "(58, 2, '*', 29)\n",
      "(59, 'Prime')\n",
      "(60, 2, '*', 30)\n",
      "(61, 'Prime')\n",
      "(62, 2, '*', 31)\n",
      "(63, 3, '*', 21)\n",
      "(64, 2, '*', 32)\n",
      "(65, 5, '*', 13)\n",
      "(66, 2, '*', 33)\n",
      "(67, 'Prime')\n",
      "(68, 2, '*', 34)\n",
      "(69, 3, '*', 23)\n",
      "(70, 2, '*', 35)\n",
      "(71, 'Prime')\n",
      "(72, 2, '*', 36)\n",
      "(73, 'Prime')\n",
      "(74, 2, '*', 37)\n",
      "(75, 3, '*', 25)\n",
      "(76, 2, '*', 38)\n",
      "(77, 7, '*', 11)\n",
      "(78, 2, '*', 39)\n",
      "(79, 'Prime')\n",
      "(80, 2, '*', 40)\n",
      "(81, 3, '*', 27)\n",
      "(82, 2, '*', 41)\n",
      "(83, 'Prime')\n",
      "(84, 2, '*', 42)\n",
      "(85, 5, '*', 17)\n",
      "(86, 2, '*', 43)\n",
      "(87, 3, '*', 29)\n",
      "(88, 2, '*', 44)\n",
      "(89, 'Prime')\n",
      "(90, 2, '*', 45)\n",
      "(91, 7, '*', 13)\n",
      "(92, 2, '*', 46)\n",
      "(93, 3, '*', 31)\n",
      "(94, 2, '*', 47)\n",
      "(95, 5, '*', 19)\n",
      "(96, 2, '*', 48)\n",
      "(97, 'Prime')\n",
      "(98, 2, '*', 49)\n",
      "(99, 3, '*', 33)\n"
     ]
    }
   ],
   "source": [
    "#指定した範囲内で、素数と合成数を判定する\n",
    "\n",
    "for n in range(2, 100):\n",
    "    for x in range(2, n):\n",
    "        if n % x == 0:\n",
    "            print(n, x, '*', n//x)\n",
    "            break\n",
    "    else:\n",
    "        # ループで約数を見つけられなかった\n",
    "        print(n, 'Prime')"
   ]
  }
 ],
 "metadata": {
  "kernelspec": {
   "display_name": "Python 2",
   "language": "python",
   "name": "python2"
  },
  "language_info": {
   "codemirror_mode": {
    "name": "ipython",
    "version": 2
   },
   "file_extension": ".py",
   "mimetype": "text/x-python",
   "name": "python",
   "nbconvert_exporter": "python",
   "pygments_lexer": "ipython2",
   "version": "2.7.10"
  }
 },
 "nbformat": 4,
 "nbformat_minor": 0
}
