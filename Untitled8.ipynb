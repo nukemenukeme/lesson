{
 "cells": [
  {
   "cell_type": "code",
   "execution_count": 4,
   "metadata": {
    "collapsed": false
   },
   "outputs": [
    {
     "ename": "SyntaxError",
     "evalue": "invalid syntax (<ipython-input-4-50fd4ca9b758>, line 8)",
     "output_type": "error",
     "traceback": [
      "\u001b[0;36m  File \u001b[0;32m\"<ipython-input-4-50fd4ca9b758>\"\u001b[0;36m, line \u001b[0;32m8\u001b[0m\n\u001b[0;31m    camera = Camera {\u001b[0m\n\u001b[0m                    ^\u001b[0m\n\u001b[0;31mSyntaxError\u001b[0m\u001b[0;31m:\u001b[0m invalid syntax\n"
     ]
    }
   ],
   "source": [
    "#include \"colors.inc\"\n",
    "#include \"glass.inc\"\n",
    "#include \"golds.inc\"\n",
    "#include \"metals.inc\"\n",
    "#include \"stones.inc\"\n",
    "#include \"woods.inc\"\n",
    "\n",
    "camera()\n",
    "  sky [0,0,1]\n",
    "  direction [-1,0,0]\n",
    "  right [-4/3,0,0]\n",
    "  location  [30,10,10]\n",
    "  look_at   [0,0,0]\n",
    "  angle 5\n",
    "}\n",
    "\n",
    "global_settings { ambient_light White }\n",
    "\n",
    "light_source {\n",
    "  [10,-10,10]\n",
    "  color White*2\n",
    "}\n",
    "\n",
    "background { color White }\n",
    "\n",
    "plane {\n",
    "  [0,0,1], 0\n",
    "  texture { T_Silver_3A }\n",
    "}\n",
    "\n",
    "#declare p1 = [1,0,0];\n",
    "#declare p2 = [0,1,0];\n",
    "#declare p3 = [-1,0,0];\n",
    "#declare p4 = [0,-1,0];\n",
    "#declare p5 = [0,0,1];\n",
    "\n",
    "#declare f1 = polygon { 5, p1, p2, p4, p3, p1 };\n",
    "#declare f2 = polygon { 4, p1, p2, p5, p1 };\n",
    "#declare f3 = polygon { 4, p2, p3, p5, p2 };\n",
    "#declare f4 = polygon { 4, p3, p4, p5, p3 };\n",
    "#declare f5 = polygon { 4, p4, p1, p5, p4 };\n",
    "\n",
    "#declare mypyramid = object { union {\n",
    "  object{f1}\n",
    "  object{f2} \n",
    "  object{f3} \n",
    "  object{f4} \n",
    "  object{f5}\n",
    "  }\n",
    "  texture {T_Stone1}\n",
    "  };\n",
    "\n",
    "scene.render(\"ipython\", width = 600, height=400, remove_temp=0)"
   ]
  }
 ],
 "metadata": {
  "kernelspec": {
   "display_name": "Python 2",
   "language": "python",
   "name": "python2"
  },
  "language_info": {
   "codemirror_mode": {
    "name": "ipython",
    "version": 2
   },
   "file_extension": ".py",
   "mimetype": "text/x-python",
   "name": "python",
   "nbconvert_exporter": "python",
   "pygments_lexer": "ipython2",
   "version": "2.7.10"
  }
 },
 "nbformat": 4,
 "nbformat_minor": 0
}
