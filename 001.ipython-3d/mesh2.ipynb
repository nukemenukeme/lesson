{
 "cells": [
  {
   "cell_type": "code",
   "execution_count": 5,
   "metadata": {
    "collapsed": false
   },
   "outputs": [
    {
     "data": {
      "image/png": "[encoded data removed]",
      "text/plain": [
       "<IPython.core.display.Image object>"
      ]
     },
     "execution_count": 5,
     "metadata": {},
     "output_type": "execute_result"
    }
   ],
   "source": [
    "# pip install git+http://github.com/Zulko/vapory.git --upgrade\n",
    "\n",
    "from vapory import *\n",
    "\n",
    "camera = Camera( 'ultra_wide_angle', 'angle', 10, \n",
    "                 'location', [25 , 25 , 35],\n",
    "                 'look_at',  [0.0 , 0.0 , 0.0])\n",
    "\n",
    "sun = LightSource([1500,2500,2500], 'color',1)\n",
    "\n",
    "sky = Sphere(  [0,0,0],1, 'hollow',\n",
    "              Texture(  Pigment(  'gradient', [0,1,0],\n",
    "                                  ColorMap([0, 'color', 'White'],\n",
    "                                           [1, 'color', 'Blue' ]),\n",
    "                                  'quick_color', 'White'),\n",
    "                        Finish( 'ambient', 1, 'diffuse', 0)),\n",
    "              'scale', 10000)\n",
    "\n",
    "ground =    Plane(  [0,0,-20], 20 ,\n",
    "            Texture( Pigment( 'color', [1.1*e for e in [1.80,1.35,1.55]])),\n",
    "            Finish(  'phong', 0.1 ))\n",
    "mesh = Mesh2(\n",
    "    VertexVectors(\n",
    "        4, \n",
    "        [0,0,0],\n",
    "        [0.5,0,0],\n",
    "        [0.5,0.5,0],\n",
    "        [0.5,0,0]\n",
    "    ),\n",
    "    FaceIndices(\n",
    "        1, \n",
    "        [0,1,2]\n",
    "    )\n",
    ")\n",
    "\n",
    "scene = Scene( camera, [sun, sky ,ground,mesh],\n",
    "               included=['colors.inc', 'textures.inc'])\n",
    "\n",
    "scene.render('ipython', width=500, height=500, antialiasing=0.001)"
   ]
  }
 ],
 "metadata": {
  "kernelspec": {
   "display_name": "Python 2",
   "language": "python",
   "name": "python2"
  },
  "language_info": {
   "codemirror_mode": {
    "name": "ipython",
    "version": 2
   },
   "file_extension": ".py",
   "mimetype": "text/x-python",
   "name": "python",
   "nbconvert_exporter": "python",
   "pygments_lexer": "ipython2",
   "version": "2.7.10"
  }
 },
 "nbformat": 4,
 "nbformat_minor": 0
}
