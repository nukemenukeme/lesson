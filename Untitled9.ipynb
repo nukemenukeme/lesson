{
 "cells": [
  {
   "cell_type": "code",
   "execution_count": 6,
   "metadata": {
    "collapsed": false
   },
   "outputs": [
    {
     "data": {
      "image/png": "[encoded data removed]",
      "text/plain": [
       "<IPython.core.display.Image object>"
      ]
     },
     "execution_count": 6,
     "metadata": {},
     "output_type": "execute_result"
    }
   ],
   "source": [
    "from vapory import *\n",
    "\n",
    "scene = Scene(  Camera('location',  [0, 50, 0],\n",
    "                       'direction', [0,-10,0],\n",
    "                       'look_at',  [0, 0, 0]),\n",
    "\n",
    "                objects = [\n",
    "                    LightSource([0, 0, 0],\n",
    "                                  'color',[1, 1, 1],\n",
    "                                  'translate', [-5, 5, -5]),\n",
    "\n",
    "                    LightSource ([0, 0, 0],\n",
    "                                    'color', [0.25, 0.25, 0.25],\n",
    "                                    'translate', [6, -6, -6]),\n",
    "\n",
    "\n",
    "                    Triangle([0, 0, 0], [1, 1, 1], [1, 1, -1],\n",
    "                            Texture( Pigment( 'color', 'rgb', [0.8*i for i in [1.00,0.95,0.8]])))                   \n",
    "               ]\n",
    ")\n",
    "\n",
    "# We use antialiasing. Remove this option for faster rendering.\n",
    "scene.render('ipython', width=300, height=300, antialiasing=0.001)"
   ]
  }
 ],
 "metadata": {
  "kernelspec": {
   "display_name": "Python 2",
   "language": "python",
   "name": "python2"
  },
  "language_info": {
   "codemirror_mode": {
    "name": "ipython",
    "version": 2
   },
   "file_extension": ".py",
   "mimetype": "text/x-python",
   "name": "python",
   "nbconvert_exporter": "python",
   "pygments_lexer": "ipython2",
   "version": "2.7.10"
  }
 },
 "nbformat": 4,
 "nbformat_minor": 0
}
