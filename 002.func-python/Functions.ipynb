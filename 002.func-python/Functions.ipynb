{
 "cells": [
  {
   "cell_type": "code",
   "execution_count": 5,
   "metadata": {
    "collapsed": false
   },
   "outputs": [
    {
     "data": {
      "text/plain": [
       "[1, 2, 3, 4, 5]"
      ]
     },
     "execution_count": 5,
     "metadata": {},
     "output_type": "execute_result"
    }
   ],
   "source": [
    "#1.数字の配列を受け取ってそれを小さい順に並び替えた配列を返す関数\n",
    "#参考URL http://docs.python.jp/2/howto/sorting.html\n",
    "\n",
    "sorted([5, 2, 3, 1, 4])"
   ]
  },
  {
   "cell_type": "code",
   "execution_count": 73,
   "metadata": {
    "collapsed": false
   },
   "outputs": [
    {
     "name": "stdout",
     "output_type": "stream",
     "text": [
      "[1, 2, 3, 4, 5]\n",
      "[]\n"
     ]
    }
   ],
   "source": [
    "def sort(array):\n",
    "    sorted = []\n",
    "    # ...\n",
    "    while len(array) > 0:\n",
    "        minvalue = 1000000000000000\n",
    "        index_minvalue=0\n",
    "        for i, num in enumerate(array):\n",
    "            if minvalue > num:\n",
    "                minvalue = num\n",
    "                index_minvalue = i\n",
    "        # minvalue = 1\n",
    "        # index_minvalue = 4\n",
    "        sorted.append(minvalue)\n",
    "        del array[index_minvalue]\n",
    "    return sorted\n",
    "\n",
    "array = [5,4,3,2,1]\n",
    "\n",
    "print sort(array)\n",
    "\n",
    "print array"
   ]
  },
  {
   "cell_type": "code",
   "execution_count": 43,
   "metadata": {
    "collapsed": false
   },
   "outputs": [
    {
     "data": {
      "text/plain": [
       "[1, 2, 2, 3, 4, 5, 5, 6, 10]"
      ]
     },
     "execution_count": 43,
     "metadata": {},
     "output_type": "execute_result"
    }
   ],
   "source": [
    "#1.数字の配列を受け取ってそれを小さい順に並び替えた配列を返す関数\n",
    "#パターンB\n",
    "\n",
    "a = [5, 2, 3, 1, 4]\n",
    "b = [5, 6, 10, 2]\n",
    "sorted(a + b)"
   ]
  },
  {
   "cell_type": "code",
   "execution_count": 66,
   "metadata": {
    "collapsed": false
   },
   "outputs": [
    {
     "data": {
      "text/plain": [
       "2"
      ]
     },
     "execution_count": 66,
     "metadata": {},
     "output_type": "execute_result"
    }
   ],
   "source": [
    "#2.フィボナッチ数列の第n項を求める関数\n",
    "#参考URL http://qiita.com/HirofumiYashima/items/86dffd7a21a586558dc8\n",
    "\n",
    "def fibonacci(n, a=1, b=0):\n",
    "     return b if n < 1 else fibonacci(n - 1, a + b, a)\n",
    "\n",
    "    #nが1より小さければbに戻り値を渡す\n",
    "    #nが1より大きければ、nのひとつ前の数値をとり、a + bして、aを置く\n",
    "    \n",
    "    # if 3 < 1 return 0\n",
    "    # else return fibonacci(2,1,1)\n",
    "        # if 2 < 1 retrun b\n",
    "        # else return fibonacci(1,2,1)\n",
    "            # if 1 < 1 return b\n",
    "            # else return fibonacchi(0)\n",
    "            #  if 0 < 1 return 2\n",
    "fibonacci(3, a=1, b=0)"
   ]
  },
  {
   "cell_type": "code",
   "execution_count": 53,
   "metadata": {
    "collapsed": false
   },
   "outputs": [
    {
     "name": "stdout",
     "output_type": "stream",
     "text": [
      "0\n",
      "1\n",
      "1\n",
      "2\n",
      "3\n",
      "5\n",
      "8\n",
      "13\n",
      "21\n",
      "34\n",
      "55\n",
      "89\n",
      "144\n",
      "233\n",
      "377\n",
      "610\n",
      "987\n",
      "1597\n",
      "2584\n",
      "4181\n",
      "6765\n",
      "10946\n",
      "17711\n",
      "28657\n",
      "46368\n",
      "75025\n",
      "121393\n",
      "196418\n"
     ]
    }
   ],
   "source": [
    "#任意の数までのフィボナッチ数列を全部表示させる\n",
    "\n",
    "def fib(n):\n",
    "    a, b = 0, 1\n",
    "    while a < n:        #a < nである間は(a)をプリントする\n",
    "        print (a)\n",
    "        a, b = b, a + b #aにbを入れ、bにはa + bを入れる\n",
    "\n",
    "fib(201800)"
   ]
  },
  {
   "cell_type": "code",
   "execution_count": 19,
   "metadata": {
    "collapsed": false
   },
   "outputs": [
    {
     "name": "stdout",
     "output_type": "stream",
     "text": [
      "<function is_prime_trial_division at 0x10f926b90>\n"
     ]
    }
   ],
   "source": [
    "#3.与えられた数が素数かどうかを判定する関数\n",
    " \n",
    "# 試し割り法による素数判定\n",
    "# 整数nが素数であるか判定する\n",
    "# 参考：高橋直大『最強最速アルゴリズマー養成講座』pp.408-409\n",
    "# 参考URL http://hamukichi.hatenablog.jp/entry/2016/02/17/215948\n",
    "\n",
    "import sys\n",
    "\n",
    "n = 13997\n",
    "\n",
    "def is_prime_trial_division(n):\n",
    "    if n < 2:\n",
    "        return False          #nが2よりも小さければ、Falseにreturnする。\n",
    "    else:                     #nが2よりも大きい場合、\n",
    "        for i in range(2, n): #2からnまでのrangeでループさせ、\n",
    "            if i * i > n:     #iの自乗がnより大きくなれば、\n",
    "                break         #break(終了)する。\n",
    "            elif n % i == 0:  #nをiで割った余りが0ならば、\n",
    "                return False  #Falseにreturnする。\n",
    "        return True           #Trueにreturnする\n",
    "\n",
    "print is_prime_trial_division #試しに出力してみた #変な結果が出た\n",
    "    \n",
    "if __name__ == '__main__':    #出力先が変なところになってる？\n",
    "    for line in sys.stdin:\n",
    "        n = int(line)\n",
    "        if is_prime_trial_division(n):\n",
    "            print(\"{} is a prime number.\".format(n))\n",
    "        else:\n",
    "            print(\"{} is not a prime number.\".format(n))"
   ]
  },
  {
   "cell_type": "code",
   "execution_count": 90,
   "metadata": {
    "collapsed": false
   },
   "outputs": [
    {
     "name": "stdout",
     "output_type": "stream",
     "text": [
      "Not phonenumber\n"
     ]
    }
   ],
   "source": [
    "#4.与えられた文字列が電話番号を示す文字列であるかどうかを判定する関数\n",
    "\n",
    "# e.g.\n",
    "# 携帯番号 090-xxxx-xxxx\n",
    "# 市外局番 03-xxxx-xxxx 086-xxx-xxxx\n",
    "# フリーダイヤル 0120-xxx-xxx\n",
    "# 国際番号 (+81)90-xxxx-xxxx\n",
    "\n",
    "# 桁数が10~12\n",
    "# 内線番号4桁が末尾につく場合がある\n",
    "# ハイフン、ドット、スペース、もしくはそれら無しの数字の羅列、の場合がある\n",
    "import re\n",
    "\n",
    "n = '090-9415-6703'\n",
    "\n",
    "r = re.compile('(\\d{3})\\D*(\\d{4})\\D*(\\d{4})\\D*(\\d*)$')\n",
    "if r.match(n) :\n",
    "    print 'Phonenumber'\n",
    "else:\n",
    "    print 'Not phonenumber'"
   ]
  },
  {
   "cell_type": "code",
   "execution_count": 12,
   "metadata": {
    "collapsed": false
   },
   "outputs": [
    {
     "name": "stdout",
     "output_type": "stream",
     "text": [
      "1\n",
      "2\n",
      "3\n",
      "4\n",
      "5\n",
      "6\n",
      "7\n",
      "8\n",
      "9\n",
      "10\n"
     ]
    }
   ],
   "source": [
    "#練習 #色んなものをとりあえず出力させる場所\n",
    "\n",
    "if __name__ == \"__main__\":\n",
    "\n",
    "    counter = 0\n",
    "\n",
    "    while counter < 10:\n",
    "        counter += 1\n",
    "        print counter"
   ]
  },
  {
   "cell_type": "code",
   "execution_count": 35,
   "metadata": {
    "collapsed": false,
    "scrolled": true
   },
   "outputs": [
    {
     "name": "stdout",
     "output_type": "stream",
     "text": [
      "('cat', 3)\n",
      "('dog', 3)\n",
      "('monky', 5)\n"
     ]
    }
   ],
   "source": [
    "#練習 #色んなものをとりあえず出力させる場所\n",
    "\n",
    "animal = ['cat', 'dog', 'monky']\n",
    "for x in animal:\n",
    "    print(x, len(x))"
   ]
  },
  {
   "cell_type": "code",
   "execution_count": 28,
   "metadata": {
    "collapsed": false,
    "scrolled": true
   },
   "outputs": [
    {
     "name": "stdout",
     "output_type": "stream",
     "text": [
      "(2, 'Prime')\n",
      "(3, 'Prime')\n",
      "(4, 2, '*', 2)\n",
      "(5, 'Prime')\n",
      "(6, 2, '*', 3)\n",
      "(7, 'Prime')\n",
      "(8, 2, '*', 4)\n",
      "(9, 3, '*', 3)\n",
      "(10, 2, '*', 5)\n",
      "(11, 'Prime')\n",
      "(12, 2, '*', 6)\n",
      "(13, 'Prime')\n",
      "(14, 2, '*', 7)\n",
      "(15, 3, '*', 5)\n",
      "(16, 2, '*', 8)\n",
      "(17, 'Prime')\n",
      "(18, 2, '*', 9)\n",
      "(19, 'Prime')\n"
     ]
    }
   ],
   "source": [
    "#指定した範囲内で、素数と合成数を判定する\n",
    "#惜しい\n",
    "\n",
    "for n in range(2, 20):             #指定範囲内でループさせる\n",
    "    for x in range(2, n):          #2以上でnになるまでxループする\n",
    "        if n % x == 0:             #nがxで割り切れたら\n",
    "            print(n, x, '*', n//x) #どの数で割りきれたのかプリントする\n",
    "            break #ループ終了\n",
    "    else:                          #ループで約数を見つけられなかった場合は\n",
    "        print(n, 'Prime')          #nと'Prime'をプリントする"
   ]
  },
  {
   "cell_type": "code",
   "execution_count": 63,
   "metadata": {
    "collapsed": false
   },
   "outputs": [
    {
     "data": {
      "text/plain": [
       "True"
      ]
     },
     "execution_count": 63,
     "metadata": {},
     "output_type": "execute_result"
    }
   ],
   "source": [
    "#指定した範囲内で、素数と合成数を判定する\n",
    "#その2\n",
    "\n",
    "def prime(n):\n",
    "    for x in range(2, n):             #2以上でnになるまでxに代入する\n",
    "        if n % x == 0:\n",
    "            return False\n",
    "    return True\n",
    "prime(7)"
   ]
  },
  {
   "cell_type": "code",
   "execution_count": 31,
   "metadata": {
    "collapsed": true
   },
   "outputs": [],
   "source": [
    "#参考URL http://d.hatena.ne.jp/pashango_p/touch/searchdiary?word=*%5Bpython%5D&of=20\n",
    "import random\n",
    "\n",
    "def is_prime(q,k=50):\n",
    "    \"\"\"ミラー・ラビンテストによる素数判定\"\"\"\n",
    "    q = abs(q)\n",
    "    if q == 2: return True\n",
    "    if q < 2 or q&1 == 0: return False\n",
    "\n",
    "    d = (q-1)>>1\n",
    "    while d&1 == 0:\n",
    "        d >>= 1\n",
    "    \n",
    "    for i in xrange(k):\n",
    "        a = random.randint(1,q-1)\n",
    "        t = d\n",
    "        y = pow(a,t,q)\n",
    "        while t != q-1 and y != 1 and y != q-1: \n",
    "            y = pow(y,2,q)\n",
    "            t <<= 1\n",
    "        if y != q-1 and t&1 == 0:\n",
    "            return False\n",
    "    return True"
   ]
  },
  {
   "cell_type": "code",
   "execution_count": 39,
   "metadata": {
    "collapsed": false
   },
   "outputs": [
    {
     "ename": "NameError",
     "evalue": "global name 'exists' is not defined",
     "output_type": "error",
     "traceback": [
      "\u001b[0;31m---------------------------------------------------------------------------\u001b[0m",
      "\u001b[0;31mNameError\u001b[0m                                 Traceback (most recent call last)",
      "\u001b[0;32m<ipython-input-39-80c3efa7a177>\u001b[0m in \u001b[0;36m<module>\u001b[0;34m()\u001b[0m\n\u001b[1;32m      7\u001b[0m     \u001b[0;32mreturn\u001b[0m \u001b[0mfilter\u001b[0m\u001b[0;34m(\u001b[0m\u001b[0mis_prime_number\u001b[0m\u001b[0;34m,\u001b[0m \u001b[0mrange\u001b[0m\u001b[0;34m(\u001b[0m\u001b[0;36m2\u001b[0m\u001b[0;34m,\u001b[0m \u001b[0mlimit\u001b[0m\u001b[0;34m)\u001b[0m\u001b[0;34m)\u001b[0m\u001b[0;34m\u001b[0m\u001b[0m\n\u001b[1;32m      8\u001b[0m \u001b[0;34m\u001b[0m\u001b[0m\n\u001b[0;32m----> 9\u001b[0;31m \u001b[0;32mprint\u001b[0m \u001b[0mprime_numbers_until\u001b[0m\u001b[0;34m(\u001b[0m\u001b[0;36m100\u001b[0m\u001b[0;34m)\u001b[0m\u001b[0;34m\u001b[0m\u001b[0m\n\u001b[0m",
      "\u001b[0;32m<ipython-input-39-80c3efa7a177>\u001b[0m in \u001b[0;36mprime_numbers_until\u001b[0;34m(limit)\u001b[0m\n\u001b[1;32m      5\u001b[0m \u001b[0;31m#2から100までの数列を、素数であることを条件にフィルタする\u001b[0m\u001b[0;34m\u001b[0m\u001b[0;34m\u001b[0m\u001b[0m\n\u001b[1;32m      6\u001b[0m \u001b[0;32mdef\u001b[0m \u001b[0mprime_numbers_until\u001b[0m\u001b[0;34m(\u001b[0m\u001b[0mlimit\u001b[0m\u001b[0;34m)\u001b[0m\u001b[0;34m:\u001b[0m\u001b[0;34m\u001b[0m\u001b[0m\n\u001b[0;32m----> 7\u001b[0;31m     \u001b[0;32mreturn\u001b[0m \u001b[0mfilter\u001b[0m\u001b[0;34m(\u001b[0m\u001b[0mis_prime_number\u001b[0m\u001b[0;34m,\u001b[0m \u001b[0mrange\u001b[0m\u001b[0;34m(\u001b[0m\u001b[0;36m2\u001b[0m\u001b[0;34m,\u001b[0m \u001b[0mlimit\u001b[0m\u001b[0;34m)\u001b[0m\u001b[0;34m)\u001b[0m\u001b[0;34m\u001b[0m\u001b[0m\n\u001b[0m\u001b[1;32m      8\u001b[0m \u001b[0;34m\u001b[0m\u001b[0m\n\u001b[1;32m      9\u001b[0m \u001b[0;32mprint\u001b[0m \u001b[0mprime_numbers_until\u001b[0m\u001b[0;34m(\u001b[0m\u001b[0;36m100\u001b[0m\u001b[0;34m)\u001b[0m\u001b[0;34m\u001b[0m\u001b[0m\n",
      "\u001b[0;32m<ipython-input-39-80c3efa7a177>\u001b[0m in \u001b[0;36mis_prime_number\u001b[0;34m(n)\u001b[0m\n\u001b[1;32m      1\u001b[0m \u001b[0;32mdef\u001b[0m \u001b[0mis_prime_number\u001b[0m\u001b[0;34m(\u001b[0m\u001b[0mn\u001b[0m\u001b[0;34m)\u001b[0m\u001b[0;34m:\u001b[0m\u001b[0;34m\u001b[0m\u001b[0m\n\u001b[1;32m      2\u001b[0m     \u001b[0;31m#素数とは、より少ない数の中に割り切れるものがない数のこと\u001b[0m\u001b[0;34m\u001b[0m\u001b[0;34m\u001b[0m\u001b[0m\n\u001b[0;32m----> 3\u001b[0;31m     \u001b[0;32mreturn\u001b[0m \u001b[0;32mnot\u001b[0m \u001b[0mexists\u001b[0m\u001b[0;34m(\u001b[0m\u001b[0;32mlambda\u001b[0m \u001b[0mm\u001b[0m\u001b[0;34m:\u001b[0m \u001b[0mn\u001b[0m \u001b[0;34m%\u001b[0m \u001b[0mm\u001b[0m \u001b[0;34m==\u001b[0m \u001b[0;36m0\u001b[0m\u001b[0;34m,\u001b[0m \u001b[0mrange\u001b[0m\u001b[0;34m(\u001b[0m\u001b[0;36m2\u001b[0m\u001b[0;34m,\u001b[0m \u001b[0mn\u001b[0m\u001b[0;34m-\u001b[0m\u001b[0;36m1\u001b[0m\u001b[0;34m)\u001b[0m\u001b[0;34m)\u001b[0m\u001b[0;34m\u001b[0m\u001b[0m\n\u001b[0m\u001b[1;32m      4\u001b[0m \u001b[0;34m\u001b[0m\u001b[0m\n\u001b[1;32m      5\u001b[0m \u001b[0;31m#2から100までの数列を、素数であることを条件にフィルタする\u001b[0m\u001b[0;34m\u001b[0m\u001b[0;34m\u001b[0m\u001b[0m\n",
      "\u001b[0;31mNameError\u001b[0m: global name 'exists' is not defined"
     ]
    }
   ],
   "source": [
    "def is_prime_number(n):\n",
    "    #素数とは、より少ない数の中に割り切れるものがない数のこと\n",
    "    return not exists(lambda m: n % m == 0, range(2, n-1))\n",
    "\n",
    "#2から100までの数列を、素数であることを条件にフィルタする\n",
    "def prime_numbers_until(limit):\n",
    "    return filter(is_prime_number, range(2, limit))\n",
    "\n",
    "print prime_numbers_until(100)"
   ]
  }
 ],
 "metadata": {
  "kernelspec": {
   "display_name": "Python 2",
   "language": "python",
   "name": "python2"
  },
  "language_info": {
   "codemirror_mode": {
    "name": "ipython",
    "version": 2
   },
   "file_extension": ".py",
   "mimetype": "text/x-python",
   "name": "python",
   "nbconvert_exporter": "python",
   "pygments_lexer": "ipython2",
   "version": "2.7.10"
  }
 },
 "nbformat": 4,
 "nbformat_minor": 0
}
